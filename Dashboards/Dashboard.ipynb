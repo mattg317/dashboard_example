{
 "cells": [
  {
   "cell_type": "code",
   "execution_count": 1,
   "metadata": {},
   "outputs": [
    {
     "data": {
      "text/html": [
       "        <script type=\"text/javascript\">\n",
       "        window.PlotlyConfig = {MathJaxConfig: 'local'};\n",
       "        if (window.MathJax) {MathJax.Hub.Config({SVG: {font: \"STIX-Web\"}});}\n",
       "        if (typeof require !== 'undefined') {\n",
       "        require.undef(\"plotly\");\n",
       "        requirejs.config({\n",
       "            paths: {\n",
       "                'plotly': ['https://cdn.plot.ly/plotly-latest.min']\n",
       "            }\n",
       "        });\n",
       "        require(['plotly'], function(Plotly) {\n",
       "            window._Plotly = Plotly;\n",
       "        });\n",
       "        }\n",
       "        </script>\n",
       "        "
      ]
     },
     "metadata": {},
     "output_type": "display_data"
    }
   ],
   "source": [
    "import numpy as np\n",
    "import pandas as pd\n",
    "import plotly\n",
    "import plotly.graph_objs as go\n",
    "\n",
    "# Initialize plotly for notebook usage offline\n",
    "plotly.offline.init_notebook_mode(connected=True)"
   ]
  },
  {
   "cell_type": "code",
   "execution_count": 2,
   "metadata": {},
   "outputs": [
    {
     "data": {
      "text/html": [
       "<div>\n",
       "<style scoped>\n",
       "    .dataframe tbody tr th:only-of-type {\n",
       "        vertical-align: middle;\n",
       "    }\n",
       "\n",
       "    .dataframe tbody tr th {\n",
       "        vertical-align: top;\n",
       "    }\n",
       "\n",
       "    .dataframe thead th {\n",
       "        text-align: right;\n",
       "    }\n",
       "</style>\n",
       "<table border=\"1\" class=\"dataframe\">\n",
       "  <thead>\n",
       "    <tr style=\"text-align: right;\">\n",
       "      <th></th>\n",
       "      <th>SectionName</th>\n",
       "      <th>UniversityName</th>\n",
       "      <th>Pace</th>\n",
       "      <th>Support</th>\n",
       "      <th>Mastery</th>\n",
       "      <th>InstructorEngagement</th>\n",
       "      <th>InstructorClarity</th>\n",
       "      <th>InstructorKnowledge</th>\n",
       "    </tr>\n",
       "  </thead>\n",
       "  <tbody>\n",
       "    <tr>\n",
       "      <th>0</th>\n",
       "      <td>Class 1</td>\n",
       "      <td>University 6</td>\n",
       "      <td>4.0</td>\n",
       "      <td>4.0</td>\n",
       "      <td>3.0</td>\n",
       "      <td>5.0</td>\n",
       "      <td>3.0</td>\n",
       "      <td>5.0</td>\n",
       "    </tr>\n",
       "    <tr>\n",
       "      <th>1</th>\n",
       "      <td>Class 1</td>\n",
       "      <td>University 6</td>\n",
       "      <td>5.0</td>\n",
       "      <td>5.0</td>\n",
       "      <td>3.0</td>\n",
       "      <td>5.0</td>\n",
       "      <td>5.0</td>\n",
       "      <td>5.0</td>\n",
       "    </tr>\n",
       "    <tr>\n",
       "      <th>2</th>\n",
       "      <td>Class 1</td>\n",
       "      <td>University 6</td>\n",
       "      <td>2.0</td>\n",
       "      <td>3.0</td>\n",
       "      <td>1.0</td>\n",
       "      <td>3.0</td>\n",
       "      <td>3.0</td>\n",
       "      <td>4.0</td>\n",
       "    </tr>\n",
       "    <tr>\n",
       "      <th>3</th>\n",
       "      <td>Class 1</td>\n",
       "      <td>University 6</td>\n",
       "      <td>4.0</td>\n",
       "      <td>4.0</td>\n",
       "      <td>3.0</td>\n",
       "      <td>4.0</td>\n",
       "      <td>4.0</td>\n",
       "      <td>4.0</td>\n",
       "    </tr>\n",
       "    <tr>\n",
       "      <th>4</th>\n",
       "      <td>Class 1</td>\n",
       "      <td>University 6</td>\n",
       "      <td>4.0</td>\n",
       "      <td>5.0</td>\n",
       "      <td>3.0</td>\n",
       "      <td>5.0</td>\n",
       "      <td>4.0</td>\n",
       "      <td>5.0</td>\n",
       "    </tr>\n",
       "  </tbody>\n",
       "</table>\n",
       "</div>"
      ],
      "text/plain": [
       "  SectionName UniversityName  Pace  Support  Mastery  InstructorEngagement  \\\n",
       "0     Class 1   University 6   4.0      4.0      3.0                   5.0   \n",
       "1     Class 1   University 6   5.0      5.0      3.0                   5.0   \n",
       "2     Class 1   University 6   2.0      3.0      1.0                   3.0   \n",
       "3     Class 1   University 6   4.0      4.0      3.0                   4.0   \n",
       "4     Class 1   University 6   4.0      5.0      3.0                   5.0   \n",
       "\n",
       "   InstructorClarity  InstructorKnowledge  \n",
       "0                3.0                  5.0  \n",
       "1                5.0                  5.0  \n",
       "2                3.0                  4.0  \n",
       "3                4.0                  4.0  \n",
       "4                4.0                  5.0  "
      ]
     },
     "execution_count": 2,
     "metadata": {},
     "output_type": "execute_result"
    }
   ],
   "source": [
    "# Read in cleaned dataset\n",
    "cleaned_df = pd.read_csv(\"../CleanData/complete_data.csv\", index_col=0)\n",
    "cleaned_df.head()"
   ]
  },
  {
   "cell_type": "code",
   "execution_count": 3,
   "metadata": {},
   "outputs": [
    {
     "data": {
      "text/html": [
       "<div>\n",
       "<style scoped>\n",
       "    .dataframe tbody tr th:only-of-type {\n",
       "        vertical-align: middle;\n",
       "    }\n",
       "\n",
       "    .dataframe tbody tr th {\n",
       "        vertical-align: top;\n",
       "    }\n",
       "\n",
       "    .dataframe thead th {\n",
       "        text-align: right;\n",
       "    }\n",
       "</style>\n",
       "<table border=\"1\" class=\"dataframe\">\n",
       "  <thead>\n",
       "    <tr style=\"text-align: right;\">\n",
       "      <th></th>\n",
       "      <th>InstructorClarity</th>\n",
       "      <th>InstructorEngagement</th>\n",
       "      <th>InstructorKnowledge</th>\n",
       "      <th>Mastery</th>\n",
       "      <th>Pace</th>\n",
       "      <th>Support</th>\n",
       "    </tr>\n",
       "    <tr>\n",
       "      <th>SectionName</th>\n",
       "      <th></th>\n",
       "      <th></th>\n",
       "      <th></th>\n",
       "      <th></th>\n",
       "      <th></th>\n",
       "      <th></th>\n",
       "    </tr>\n",
       "  </thead>\n",
       "  <tbody>\n",
       "    <tr>\n",
       "      <th>Class 1</th>\n",
       "      <td>4.045455</td>\n",
       "      <td>4.086777</td>\n",
       "      <td>4.409091</td>\n",
       "      <td>3.533058</td>\n",
       "      <td>3.913223</td>\n",
       "      <td>4.231405</td>\n",
       "    </tr>\n",
       "    <tr>\n",
       "      <th>Class 10</th>\n",
       "      <td>4.338028</td>\n",
       "      <td>4.441315</td>\n",
       "      <td>4.704225</td>\n",
       "      <td>3.446009</td>\n",
       "      <td>4.079812</td>\n",
       "      <td>4.159624</td>\n",
       "    </tr>\n",
       "    <tr>\n",
       "      <th>Class 100</th>\n",
       "      <td>4.126437</td>\n",
       "      <td>4.155172</td>\n",
       "      <td>4.373563</td>\n",
       "      <td>3.304598</td>\n",
       "      <td>3.632184</td>\n",
       "      <td>4.091954</td>\n",
       "    </tr>\n",
       "    <tr>\n",
       "      <th>Class 101</th>\n",
       "      <td>4.179245</td>\n",
       "      <td>4.264151</td>\n",
       "      <td>4.537736</td>\n",
       "      <td>3.183962</td>\n",
       "      <td>3.891509</td>\n",
       "      <td>4.136792</td>\n",
       "    </tr>\n",
       "    <tr>\n",
       "      <th>Class 104</th>\n",
       "      <td>4.000000</td>\n",
       "      <td>4.100000</td>\n",
       "      <td>4.300000</td>\n",
       "      <td>2.400000</td>\n",
       "      <td>3.900000</td>\n",
       "      <td>4.000000</td>\n",
       "    </tr>\n",
       "  </tbody>\n",
       "</table>\n",
       "</div>"
      ],
      "text/plain": [
       "             InstructorClarity  InstructorEngagement  InstructorKnowledge  \\\n",
       "SectionName                                                                 \n",
       "Class 1               4.045455              4.086777             4.409091   \n",
       "Class 10              4.338028              4.441315             4.704225   \n",
       "Class 100             4.126437              4.155172             4.373563   \n",
       "Class 101             4.179245              4.264151             4.537736   \n",
       "Class 104             4.000000              4.100000             4.300000   \n",
       "\n",
       "              Mastery      Pace   Support  \n",
       "SectionName                                \n",
       "Class 1      3.533058  3.913223  4.231405  \n",
       "Class 10     3.446009  4.079812  4.159624  \n",
       "Class 100    3.304598  3.632184  4.091954  \n",
       "Class 101    3.183962  3.891509  4.136792  \n",
       "Class 104    2.400000  3.900000  4.000000  "
      ]
     },
     "execution_count": 3,
     "metadata": {},
     "output_type": "execute_result"
    }
   ],
   "source": [
    "# Class pivot table\n",
    "class_pivot_table = pd.pivot_table(cleaned_df, values=['Mastery','Support',\n",
    "                                                 'Pace', 'InstructorKnowledge',\n",
    "                                                 'InstructorClarity', 'InstructorEngagement',], \n",
    "                             index='SectionName', aggfunc=np.mean)\n",
    "class_pivot_table.head()"
   ]
  },
  {
   "cell_type": "code",
   "execution_count": 4,
   "metadata": {},
   "outputs": [
    {
     "data": {
      "text/html": [
       "<div>\n",
       "<style scoped>\n",
       "    .dataframe tbody tr th:only-of-type {\n",
       "        vertical-align: middle;\n",
       "    }\n",
       "\n",
       "    .dataframe tbody tr th {\n",
       "        vertical-align: top;\n",
       "    }\n",
       "\n",
       "    .dataframe thead th {\n",
       "        text-align: right;\n",
       "    }\n",
       "</style>\n",
       "<table border=\"1\" class=\"dataframe\">\n",
       "  <thead>\n",
       "    <tr style=\"text-align: right;\">\n",
       "      <th></th>\n",
       "      <th>InstructorClarity</th>\n",
       "      <th>InstructorEngagement</th>\n",
       "      <th>InstructorKnowledge</th>\n",
       "      <th>Mastery</th>\n",
       "      <th>Pace</th>\n",
       "      <th>Support</th>\n",
       "    </tr>\n",
       "    <tr>\n",
       "      <th>UniversityName</th>\n",
       "      <th></th>\n",
       "      <th></th>\n",
       "      <th></th>\n",
       "      <th></th>\n",
       "      <th></th>\n",
       "      <th></th>\n",
       "    </tr>\n",
       "  </thead>\n",
       "  <tbody>\n",
       "    <tr>\n",
       "      <th>University 1</th>\n",
       "      <td>4.156042</td>\n",
       "      <td>4.223597</td>\n",
       "      <td>4.530923</td>\n",
       "      <td>3.270219</td>\n",
       "      <td>3.737393</td>\n",
       "      <td>4.156993</td>\n",
       "    </tr>\n",
       "    <tr>\n",
       "      <th>University 10</th>\n",
       "      <td>4.181818</td>\n",
       "      <td>4.200308</td>\n",
       "      <td>4.522342</td>\n",
       "      <td>3.369800</td>\n",
       "      <td>3.801233</td>\n",
       "      <td>4.235747</td>\n",
       "    </tr>\n",
       "    <tr>\n",
       "      <th>University 11</th>\n",
       "      <td>4.181651</td>\n",
       "      <td>4.223853</td>\n",
       "      <td>4.522936</td>\n",
       "      <td>3.411009</td>\n",
       "      <td>3.776147</td>\n",
       "      <td>4.166972</td>\n",
       "    </tr>\n",
       "    <tr>\n",
       "      <th>University 12</th>\n",
       "      <td>4.195079</td>\n",
       "      <td>4.268893</td>\n",
       "      <td>4.525483</td>\n",
       "      <td>3.458699</td>\n",
       "      <td>3.822496</td>\n",
       "      <td>4.161687</td>\n",
       "    </tr>\n",
       "    <tr>\n",
       "      <th>University 13</th>\n",
       "      <td>4.273148</td>\n",
       "      <td>4.303241</td>\n",
       "      <td>4.527778</td>\n",
       "      <td>3.388889</td>\n",
       "      <td>3.844907</td>\n",
       "      <td>4.236111</td>\n",
       "    </tr>\n",
       "  </tbody>\n",
       "</table>\n",
       "</div>"
      ],
      "text/plain": [
       "                InstructorClarity  InstructorEngagement  InstructorKnowledge  \\\n",
       "UniversityName                                                                 \n",
       "University 1             4.156042              4.223597             4.530923   \n",
       "University 10            4.181818              4.200308             4.522342   \n",
       "University 11            4.181651              4.223853             4.522936   \n",
       "University 12            4.195079              4.268893             4.525483   \n",
       "University 13            4.273148              4.303241             4.527778   \n",
       "\n",
       "                 Mastery      Pace   Support  \n",
       "UniversityName                                \n",
       "University 1    3.270219  3.737393  4.156993  \n",
       "University 10   3.369800  3.801233  4.235747  \n",
       "University 11   3.411009  3.776147  4.166972  \n",
       "University 12   3.458699  3.822496  4.161687  \n",
       "University 13   3.388889  3.844907  4.236111  "
      ]
     },
     "execution_count": 4,
     "metadata": {},
     "output_type": "execute_result"
    }
   ],
   "source": [
    "# University pivot table\n",
    "university_pivot_table = pd.pivot_table(cleaned_df, values=['Mastery','Support',\n",
    "                                                 'Pace', 'InstructorKnowledge',\n",
    "                                                 'InstructorClarity', 'InstructorEngagement',],\n",
    "                             index='UniversityName', aggfunc=np.mean)\n",
    "university_pivot_table.head()"
   ]
  },
  {
   "cell_type": "code",
   "execution_count": 5,
   "metadata": {},
   "outputs": [],
   "source": [
    "# Function to create traces\n",
    "def create_traces(df):\n",
    "    # Traces for each metric\n",
    "    trace_mastery = go.Bar(x=df.index, \n",
    "                           y=df['Mastery'], name=\"Mastery\")\n",
    "\n",
    "    trace_support = go.Bar(x=df.index, \n",
    "                           y=df['Support'], name=\"Support\")\n",
    "\n",
    "    trace_pace = go.Bar(x=df.index, \n",
    "                        y=df['Pace'], name=\"Pace\")\n",
    "\n",
    "    trace_ins_knowledge = go.Bar(x=df.index, \n",
    "                                 y=df['InstructorKnowledge'], name=\"Ins. Know\")\n",
    "\n",
    "    trace_ins_clarity = go.Bar(x=df.index, \n",
    "                               y=df['InstructorClarity'], name=\"Ins. Clarity\")\n",
    "\n",
    "    trace_ins_engagement = go.Bar(x=df.index, \n",
    "                                  y=df['InstructorEngagement'], name=\"Ins. Engagement\")\n",
    "\n",
    "    # Store data in array for chart update visibility\n",
    "    data = [trace_mastery, trace_support, trace_pace, trace_ins_knowledge, trace_ins_clarity, trace_ins_engagement]\n",
    "    \n",
    "    return data"
   ]
  },
  {
   "cell_type": "code",
   "execution_count": 6,
   "metadata": {},
   "outputs": [],
   "source": [
    "# Dropdown menu for charts\n",
    "updatemenus=list([\n",
    "    dict(\n",
    "        active=0,\n",
    "        buttons=list([ \n",
    "            dict(\n",
    "                label='All Metrics',\n",
    "                method='update',\n",
    "                args=[{'visible': [True, True, True, True, True, True]},\n",
    "                       {'title': 'All'}]\n",
    "            ),\n",
    "            dict(\n",
    "                label='Mastery',\n",
    "                method='update',\n",
    "                args=[{'visible': [True, False, False, False, False, False]},\n",
    "                       {'title': 'Avg Pace'}]\n",
    "            ),\n",
    "            dict(\n",
    "                label='Support',\n",
    "                method='update',\n",
    "                args=[{'visible': [False, True, False, False, False, False]},\n",
    "                       {'title': 'Avg Support'}]\n",
    "            ),\n",
    "            dict(\n",
    "                label='Pace',\n",
    "                method='update',\n",
    "                args=[{'visible': [False, False, True, False, False, False]},\n",
    "                       {'title': 'Avg Support'}]\n",
    "            ),\n",
    "            dict(\n",
    "                label='Instructor Knowledge',\n",
    "                method='update',\n",
    "                args=[{'visible': [False, False, False, True, False, False]},\n",
    "                       {'title': 'Ins Knowledge'}]\n",
    "            ),\n",
    "            dict(\n",
    "                label='Instrutor Clarity',\n",
    "                method='update',\n",
    "                args=[{'visible': [False, True, False, False, False, False]},\n",
    "                       {'title': 'Instructor Clarity'}]\n",
    "            ),\n",
    "            dict(\n",
    "                label='Instrutor Engagement',\n",
    "                method='update',\n",
    "                args=[{'visible': [False, True, False, False, False, False]},\n",
    "                       {'title': 'Instructor Engagement'}]\n",
    "            ),\n",
    "        ])\n",
    "    )])"
   ]
  },
  {
   "cell_type": "markdown",
   "metadata": {},
   "source": [
    "### Class Metrics\n",
    "* Full view then broken down to chunks of 25 classes for clarity"
   ]
  },
  {
   "cell_type": "code",
   "execution_count": 7,
   "metadata": {},
   "outputs": [
    {
     "data": {
      "application/vnd.plotly.v1+json": {
       "config": {
        "linkText": "Export to plot.ly",
        "plotlyServerURL": "https://plot.ly",
        "showLink": false
       },
       "data": [
        {
         "name": "Mastery",
         "type": "bar",
         "uid": "b87beeeb-5530-4baf-b29a-bc323c4d3eaf",
         "x": [
          "Class 1",
          "Class 10",
          "Class 100",
          "Class 101",
          "Class 104",
          "Class 105",
          "Class 106",
          "Class 107",
          "Class 108",
          "Class 109",
          "Class 11",
          "Class 110",
          "Class 111",
          "Class 112",
          "Class 113",
          "Class 114",
          "Class 117",
          "Class 118",
          "Class 119",
          "Class 12",
          "Class 120",
          "Class 121",
          "Class 13",
          "Class 14",
          "Class 15",
          "Class 17",
          "Class 18",
          "Class 19",
          "Class 2",
          "Class 20",
          "Class 21",
          "Class 22",
          "Class 23",
          "Class 24",
          "Class 25",
          "Class 26",
          "Class 27",
          "Class 28",
          "Class 29",
          "Class 3",
          "Class 30",
          "Class 31",
          "Class 34",
          "Class 35",
          "Class 36",
          "Class 37",
          "Class 38",
          "Class 39",
          "Class 4",
          "Class 40",
          "Class 42",
          "Class 43",
          "Class 44",
          "Class 45",
          "Class 48",
          "Class 5",
          "Class 51",
          "Class 52",
          "Class 53",
          "Class 54",
          "Class 55",
          "Class 56",
          "Class 57",
          "Class 58",
          "Class 59",
          "Class 6",
          "Class 60",
          "Class 61",
          "Class 62",
          "Class 63",
          "Class 64",
          "Class 7",
          "Class 71",
          "Class 72",
          "Class 73",
          "Class 74",
          "Class 75",
          "Class 76",
          "Class 77",
          "Class 78",
          "Class 8",
          "Class 82",
          "Class 83",
          "Class 9",
          "Class 90",
          "Class 91",
          "Class 92",
          "Class 93",
          "Class 94",
          "Class 95"
         ],
         "y": [
          3.5330578512396693,
          3.4460093896713615,
          3.3045977011494254,
          3.1839622641509435,
          2.4,
          3.2857142857142856,
          3.3157894736842106,
          3.027027027027027,
          3.0517241379310347,
          3.180327868852459,
          3.424390243902439,
          3.1692913385826773,
          3.323741007194245,
          3.060344827586207,
          3.4158415841584158,
          3.0930232558139537,
          3.30635838150289,
          3.373205741626794,
          3.3982558139534884,
          3.3455882352941178,
          3.3399209486166006,
          3.319672131147541,
          3.9216867469879517,
          3.231527093596059,
          3.248847926267281,
          3.1902173913043477,
          3.4450549450549453,
          3.28060263653484,
          3.4628378378378377,
          3.3746630727762805,
          3.74468085106383,
          2.918421052631579,
          3.580508474576271,
          3.6470588235294117,
          3.6153846153846154,
          3.417391304347826,
          3.323943661971831,
          3.064935064935065,
          3.3533333333333335,
          3.4740259740259742,
          3.5335195530726256,
          3.4049295774647885,
          3.31700288184438,
          3.4272445820433437,
          3.2975778546712804,
          3.430379746835443,
          3.4416475972540046,
          3.372549019607843,
          3.3877551020408165,
          3.218905472636816,
          3.356060606060606,
          3.652173913043478,
          3.489130434782609,
          3.4356435643564356,
          4,
          3.6824034334763946,
          3.167539267015707,
          3.376984126984127,
          3.26271186440678,
          3.549107142857143,
          3.416,
          3.389423076923077,
          3.25,
          3.2486486486486488,
          3.1666666666666665,
          3.57085020242915,
          3.284090909090909,
          2.9737827715355807,
          3.2,
          3.2037037037037037,
          3.204697986577181,
          3.4936170212765956,
          3.430622009569378,
          3.3497757847533634,
          3.288,
          3.2844444444444445,
          3.2049689440993787,
          3.278688524590164,
          3.2797927461139897,
          3.098901098901099,
          3.3810623556581985,
          3.397923875432526,
          3.4178571428571427,
          3.3956521739130436,
          3.267857142857143,
          3.3863636363636362,
          3.325,
          3.3664383561643834,
          3.159851301115242,
          3.089795918367347
         ]
        },
        {
         "name": "Support",
         "type": "bar",
         "uid": "b6fe1316-4856-439e-817d-c696396af48f",
         "x": [
          "Class 1",
          "Class 10",
          "Class 100",
          "Class 101",
          "Class 104",
          "Class 105",
          "Class 106",
          "Class 107",
          "Class 108",
          "Class 109",
          "Class 11",
          "Class 110",
          "Class 111",
          "Class 112",
          "Class 113",
          "Class 114",
          "Class 117",
          "Class 118",
          "Class 119",
          "Class 12",
          "Class 120",
          "Class 121",
          "Class 13",
          "Class 14",
          "Class 15",
          "Class 17",
          "Class 18",
          "Class 19",
          "Class 2",
          "Class 20",
          "Class 21",
          "Class 22",
          "Class 23",
          "Class 24",
          "Class 25",
          "Class 26",
          "Class 27",
          "Class 28",
          "Class 29",
          "Class 3",
          "Class 30",
          "Class 31",
          "Class 34",
          "Class 35",
          "Class 36",
          "Class 37",
          "Class 38",
          "Class 39",
          "Class 4",
          "Class 40",
          "Class 42",
          "Class 43",
          "Class 44",
          "Class 45",
          "Class 48",
          "Class 5",
          "Class 51",
          "Class 52",
          "Class 53",
          "Class 54",
          "Class 55",
          "Class 56",
          "Class 57",
          "Class 58",
          "Class 59",
          "Class 6",
          "Class 60",
          "Class 61",
          "Class 62",
          "Class 63",
          "Class 64",
          "Class 7",
          "Class 71",
          "Class 72",
          "Class 73",
          "Class 74",
          "Class 75",
          "Class 76",
          "Class 77",
          "Class 78",
          "Class 8",
          "Class 82",
          "Class 83",
          "Class 9",
          "Class 90",
          "Class 91",
          "Class 92",
          "Class 93",
          "Class 94",
          "Class 95"
         ],
         "y": [
          4.231404958677686,
          4.15962441314554,
          4.091954022988506,
          4.136792452830188,
          4,
          4.142857142857143,
          4.157894736842105,
          3.891891891891892,
          4.181034482758621,
          4.147540983606557,
          4.219512195121951,
          3.9763779527559056,
          4.215827338129497,
          4.008620689655173,
          4.297029702970297,
          4.023255813953488,
          4.173410404624278,
          4.177033492822966,
          4.087209302325581,
          4.188725490196078,
          4.229249011857707,
          4.114754098360656,
          4.548192771084337,
          4.123152709359606,
          4.142857142857143,
          4.059782608695652,
          4.225274725274725,
          4.222222222222222,
          4.081081081081081,
          4.3126684636118595,
          4.595744680851064,
          3.7710526315789474,
          4.101694915254237,
          4.588235294117647,
          4.269230769230769,
          4.047826086956522,
          4.070422535211268,
          4.298701298701299,
          4.333333333333333,
          4.268398268398268,
          4.293296089385475,
          4.27112676056338,
          4.236311239193084,
          4.226006191950464,
          4.093425605536332,
          4.218354430379747,
          4.160183066361556,
          4.176470588235294,
          4.233236151603498,
          4.0497512437810945,
          4.03030303030303,
          4.717391304347826,
          4.6521739130434785,
          4.396039603960396,
          4.5,
          4.416309012875536,
          3.905759162303665,
          4.234126984126984,
          4.139830508474576,
          4.299107142857143,
          4.152,
          4.091346153846154,
          4.25,
          3.772972972972973,
          3.75,
          4.364372469635628,
          4.1875,
          3.8127340823970037,
          4.126315789473685,
          4.125925925925926,
          4.151006711409396,
          4.278014184397163,
          4.29665071770335,
          4.179372197309417,
          4.148,
          4.1066666666666665,
          4.086956521739131,
          4.024590163934426,
          4.134715025906735,
          4.093406593406593,
          4.200923787528868,
          4.131487889273356,
          4.225,
          4.3130434782608695,
          4.174107142857143,
          4.081818181818182,
          4.114285714285714,
          4.208904109589041,
          4.211895910780669,
          4.089795918367347
         ]
        },
        {
         "name": "Pace",
         "type": "bar",
         "uid": "59810735-3cdb-43a4-9ec7-a9cde16095fc",
         "x": [
          "Class 1",
          "Class 10",
          "Class 100",
          "Class 101",
          "Class 104",
          "Class 105",
          "Class 106",
          "Class 107",
          "Class 108",
          "Class 109",
          "Class 11",
          "Class 110",
          "Class 111",
          "Class 112",
          "Class 113",
          "Class 114",
          "Class 117",
          "Class 118",
          "Class 119",
          "Class 12",
          "Class 120",
          "Class 121",
          "Class 13",
          "Class 14",
          "Class 15",
          "Class 17",
          "Class 18",
          "Class 19",
          "Class 2",
          "Class 20",
          "Class 21",
          "Class 22",
          "Class 23",
          "Class 24",
          "Class 25",
          "Class 26",
          "Class 27",
          "Class 28",
          "Class 29",
          "Class 3",
          "Class 30",
          "Class 31",
          "Class 34",
          "Class 35",
          "Class 36",
          "Class 37",
          "Class 38",
          "Class 39",
          "Class 4",
          "Class 40",
          "Class 42",
          "Class 43",
          "Class 44",
          "Class 45",
          "Class 48",
          "Class 5",
          "Class 51",
          "Class 52",
          "Class 53",
          "Class 54",
          "Class 55",
          "Class 56",
          "Class 57",
          "Class 58",
          "Class 59",
          "Class 6",
          "Class 60",
          "Class 61",
          "Class 62",
          "Class 63",
          "Class 64",
          "Class 7",
          "Class 71",
          "Class 72",
          "Class 73",
          "Class 74",
          "Class 75",
          "Class 76",
          "Class 77",
          "Class 78",
          "Class 8",
          "Class 82",
          "Class 83",
          "Class 9",
          "Class 90",
          "Class 91",
          "Class 92",
          "Class 93",
          "Class 94",
          "Class 95"
         ],
         "y": [
          3.9132231404958677,
          4.07981220657277,
          3.632183908045977,
          3.891509433962264,
          3.9,
          3.380952380952381,
          3.6578947368421053,
          3.918918918918919,
          3.560344827586207,
          3.6147540983606556,
          3.797560975609756,
          3.677165354330709,
          3.5575539568345325,
          3.7672413793103448,
          3.792079207920792,
          3.744186046511628,
          3.8265895953757227,
          3.722488038277512,
          3.796511627906977,
          3.9142156862745097,
          3.869565217391304,
          3.7745901639344264,
          4.331325301204819,
          3.876847290640394,
          3.751152073732719,
          3.8152173913043477,
          3.8076923076923075,
          3.6854990583804144,
          3.722972972972973,
          3.9703504043126685,
          4.25,
          3.463157894736842,
          3.9279661016949152,
          3.8823529411764706,
          3.9615384615384617,
          3.747826086956522,
          3.76056338028169,
          3.857142857142857,
          3.8466666666666667,
          3.878787878787879,
          3.776536312849162,
          3.7746478873239435,
          3.7953890489913547,
          3.7430340557275543,
          3.6782006920415227,
          3.8765822784810124,
          3.8535469107551488,
          3.65359477124183,
          3.889212827988338,
          3.646766169154229,
          3.765151515151515,
          4.195652173913044,
          4.260869565217392,
          4.217821782178218,
          3.5,
          4.334763948497854,
          3.575916230366492,
          3.7777777777777777,
          3.7711864406779663,
          3.8080357142857144,
          3.864,
          3.8461538461538463,
          3.25,
          3.675675675675676,
          3.4583333333333335,
          4.129554655870446,
          3.715909090909091,
          3.3707865168539324,
          3.6842105263157894,
          3.77037037037037,
          3.634228187919463,
          3.8439716312056738,
          3.9043062200956937,
          3.789237668161435,
          3.744,
          3.72,
          3.5838509316770186,
          3.4918032786885247,
          3.7357512953367875,
          3.6648351648351647,
          3.7505773672055427,
          3.737024221453287,
          3.7928571428571427,
          3.7130434782608694,
          3.5267857142857144,
          3.6454545454545455,
          3.767857142857143,
          3.845890410958904,
          3.866171003717472,
          3.7224489795918365
         ]
        },
        {
         "name": "Ins. Know",
         "type": "bar",
         "uid": "44fa7541-bf36-4f38-95dc-29e868fc5b53",
         "x": [
          "Class 1",
          "Class 10",
          "Class 100",
          "Class 101",
          "Class 104",
          "Class 105",
          "Class 106",
          "Class 107",
          "Class 108",
          "Class 109",
          "Class 11",
          "Class 110",
          "Class 111",
          "Class 112",
          "Class 113",
          "Class 114",
          "Class 117",
          "Class 118",
          "Class 119",
          "Class 12",
          "Class 120",
          "Class 121",
          "Class 13",
          "Class 14",
          "Class 15",
          "Class 17",
          "Class 18",
          "Class 19",
          "Class 2",
          "Class 20",
          "Class 21",
          "Class 22",
          "Class 23",
          "Class 24",
          "Class 25",
          "Class 26",
          "Class 27",
          "Class 28",
          "Class 29",
          "Class 3",
          "Class 30",
          "Class 31",
          "Class 34",
          "Class 35",
          "Class 36",
          "Class 37",
          "Class 38",
          "Class 39",
          "Class 4",
          "Class 40",
          "Class 42",
          "Class 43",
          "Class 44",
          "Class 45",
          "Class 48",
          "Class 5",
          "Class 51",
          "Class 52",
          "Class 53",
          "Class 54",
          "Class 55",
          "Class 56",
          "Class 57",
          "Class 58",
          "Class 59",
          "Class 6",
          "Class 60",
          "Class 61",
          "Class 62",
          "Class 63",
          "Class 64",
          "Class 7",
          "Class 71",
          "Class 72",
          "Class 73",
          "Class 74",
          "Class 75",
          "Class 76",
          "Class 77",
          "Class 78",
          "Class 8",
          "Class 82",
          "Class 83",
          "Class 9",
          "Class 90",
          "Class 91",
          "Class 92",
          "Class 93",
          "Class 94",
          "Class 95"
         ],
         "y": [
          4.409090909090909,
          4.704225352112676,
          4.373563218390805,
          4.537735849056604,
          4.3,
          4.333333333333333,
          4.5,
          4.486486486486487,
          4.663793103448276,
          4.467213114754099,
          4.590243902439024,
          4.515748031496063,
          4.539568345323741,
          4.353448275862069,
          4.663366336633663,
          4.476744186046512,
          4.502890173410405,
          4.578947368421052,
          4.598837209302325,
          4.546568627450981,
          4.458498023715415,
          4.479508196721311,
          4.740963855421687,
          4.684729064039409,
          4.497695852534562,
          4.445652173913044,
          4.510989010989011,
          4.5141242937853105,
          4.4391891891891895,
          4.660377358490566,
          4.829787234042553,
          4.389473684210526,
          4.237288135593221,
          4.764705882352941,
          4.615384615384615,
          4.3826086956521735,
          4.563380281690141,
          4.766233766233766,
          4.626666666666667,
          4.571428571428571,
          4.592178770949721,
          4.524647887323944,
          4.5590778097982705,
          4.526315789473684,
          4.439446366782007,
          4.474683544303797,
          4.482837528604119,
          4.562091503267974,
          4.574344023323615,
          4.527363184079602,
          4.537878787878788,
          4.717391304347826,
          4.891304347826087,
          4.712871287128713,
          4.5,
          4.695278969957082,
          4.371727748691099,
          4.511904761904762,
          4.330508474576271,
          4.602678571428571,
          4.688,
          4.403846153846154,
          4.75,
          4.308108108108108,
          4.583333333333333,
          4.668016194331984,
          4.653409090909091,
          4.123595505617978,
          4.6421052631578945,
          4.548148148148148,
          4.560402684563758,
          4.520567375886525,
          4.564593301435407,
          4.493273542600897,
          4.456,
          4.453333333333333,
          4.590062111801243,
          4.549180327868853,
          4.518134715025907,
          4.56043956043956,
          4.484988452655889,
          4.477508650519031,
          4.564285714285714,
          4.630434782608695,
          4.660714285714286,
          4.5,
          4.392857142857143,
          4.534246575342466,
          4.4907063197026025,
          4.457142857142857
         ]
        },
        {
         "name": "Ins. Clarity",
         "type": "bar",
         "uid": "e1fa3e58-eb2d-4c05-af48-78518c219e3b",
         "x": [
          "Class 1",
          "Class 10",
          "Class 100",
          "Class 101",
          "Class 104",
          "Class 105",
          "Class 106",
          "Class 107",
          "Class 108",
          "Class 109",
          "Class 11",
          "Class 110",
          "Class 111",
          "Class 112",
          "Class 113",
          "Class 114",
          "Class 117",
          "Class 118",
          "Class 119",
          "Class 12",
          "Class 120",
          "Class 121",
          "Class 13",
          "Class 14",
          "Class 15",
          "Class 17",
          "Class 18",
          "Class 19",
          "Class 2",
          "Class 20",
          "Class 21",
          "Class 22",
          "Class 23",
          "Class 24",
          "Class 25",
          "Class 26",
          "Class 27",
          "Class 28",
          "Class 29",
          "Class 3",
          "Class 30",
          "Class 31",
          "Class 34",
          "Class 35",
          "Class 36",
          "Class 37",
          "Class 38",
          "Class 39",
          "Class 4",
          "Class 40",
          "Class 42",
          "Class 43",
          "Class 44",
          "Class 45",
          "Class 48",
          "Class 5",
          "Class 51",
          "Class 52",
          "Class 53",
          "Class 54",
          "Class 55",
          "Class 56",
          "Class 57",
          "Class 58",
          "Class 59",
          "Class 6",
          "Class 60",
          "Class 61",
          "Class 62",
          "Class 63",
          "Class 64",
          "Class 7",
          "Class 71",
          "Class 72",
          "Class 73",
          "Class 74",
          "Class 75",
          "Class 76",
          "Class 77",
          "Class 78",
          "Class 8",
          "Class 82",
          "Class 83",
          "Class 9",
          "Class 90",
          "Class 91",
          "Class 92",
          "Class 93",
          "Class 94",
          "Class 95"
         ],
         "y": [
          4.045454545454546,
          4.338028169014085,
          4.126436781609195,
          4.179245283018868,
          4,
          4.285714285714286,
          4.131578947368421,
          4.108108108108108,
          4.181034482758621,
          4.016393442622951,
          4.1658536585365855,
          4.094488188976378,
          4.244604316546763,
          4.051724137931035,
          4.336633663366337,
          4.034883720930233,
          4.202312138728324,
          4.239234449760765,
          4.238372093023256,
          4.169117647058823,
          4.169960474308301,
          4.135245901639344,
          4.602409638554217,
          4.266009852216749,
          4.04147465437788,
          4.059782608695652,
          4.2032967032967035,
          4.094161958568738,
          3.9594594594594597,
          4.177897574123989,
          4.48936170212766,
          3.6789473684210527,
          4.059322033898305,
          4.294117647058823,
          3.769230769230769,
          4.147826086956521,
          4.154929577464789,
          4.376623376623376,
          4.24,
          4.207792207792208,
          4.20391061452514,
          4.235915492957746,
          4.227665706051873,
          4.145510835913313,
          4.069204152249135,
          4.189873417721519,
          4.187643020594965,
          4.222222222222222,
          4.236151603498542,
          4.124378109452737,
          3.992424242424242,
          4.3478260869565215,
          4.391304347826087,
          4.396039603960396,
          4.5,
          4.3218884120171674,
          3.722513089005236,
          4.2023809523809526,
          4.02542372881356,
          4.299107142857143,
          4.24,
          4.115384615384615,
          4.5,
          3.9405405405405407,
          4.25,
          4.303643724696356,
          4.267045454545454,
          3.651685393258427,
          4.147368421052631,
          4.133333333333334,
          4.167785234899329,
          4.228368794326241,
          4.301435406698564,
          4.246636771300448,
          4.172,
          4.168888888888889,
          4.192546583850931,
          4,
          4.124352331606218,
          4.065934065934066,
          4.124711316397229,
          4.145328719723183,
          4.210714285714285,
          4.352173913043479,
          4.209821428571429,
          4.181818181818182,
          4.042857142857143,
          4.181506849315069,
          4.159851301115242,
          4.171428571428572
         ]
        },
        {
         "name": "Ins. Engagement",
         "type": "bar",
         "uid": "6430e253-9fd3-4fe4-ae0c-8c9ce2f2149c",
         "x": [
          "Class 1",
          "Class 10",
          "Class 100",
          "Class 101",
          "Class 104",
          "Class 105",
          "Class 106",
          "Class 107",
          "Class 108",
          "Class 109",
          "Class 11",
          "Class 110",
          "Class 111",
          "Class 112",
          "Class 113",
          "Class 114",
          "Class 117",
          "Class 118",
          "Class 119",
          "Class 12",
          "Class 120",
          "Class 121",
          "Class 13",
          "Class 14",
          "Class 15",
          "Class 17",
          "Class 18",
          "Class 19",
          "Class 2",
          "Class 20",
          "Class 21",
          "Class 22",
          "Class 23",
          "Class 24",
          "Class 25",
          "Class 26",
          "Class 27",
          "Class 28",
          "Class 29",
          "Class 3",
          "Class 30",
          "Class 31",
          "Class 34",
          "Class 35",
          "Class 36",
          "Class 37",
          "Class 38",
          "Class 39",
          "Class 4",
          "Class 40",
          "Class 42",
          "Class 43",
          "Class 44",
          "Class 45",
          "Class 48",
          "Class 5",
          "Class 51",
          "Class 52",
          "Class 53",
          "Class 54",
          "Class 55",
          "Class 56",
          "Class 57",
          "Class 58",
          "Class 59",
          "Class 6",
          "Class 60",
          "Class 61",
          "Class 62",
          "Class 63",
          "Class 64",
          "Class 7",
          "Class 71",
          "Class 72",
          "Class 73",
          "Class 74",
          "Class 75",
          "Class 76",
          "Class 77",
          "Class 78",
          "Class 8",
          "Class 82",
          "Class 83",
          "Class 9",
          "Class 90",
          "Class 91",
          "Class 92",
          "Class 93",
          "Class 94",
          "Class 95"
         ],
         "y": [
          4.086776859504132,
          4.44131455399061,
          4.155172413793103,
          4.264150943396227,
          4.1,
          4.238095238095238,
          4.078947368421052,
          4.081081081081081,
          4.336206896551724,
          4.131147540983607,
          4.263414634146342,
          4.181102362204724,
          4.316546762589928,
          4.181034482758621,
          4.366336633663367,
          4.0813953488372094,
          4.23121387283237,
          4.291866028708134,
          4.3023255813953485,
          4.208333333333333,
          4.225296442687747,
          4.184426229508197,
          4.650602409638554,
          4.443349753694581,
          4.147465437788019,
          4.173913043478261,
          4.225274725274725,
          4.175141242937853,
          4.054054054054054,
          4.3261455525606465,
          4.691489361702128,
          3.905263157894737,
          4.110169491525424,
          4.117647058823529,
          4.1923076923076925,
          4.21304347826087,
          4.295774647887324,
          4.597402597402597,
          4.326666666666667,
          4.294372294372295,
          4.298882681564246,
          4.235915492957746,
          4.314121037463977,
          4.201238390092879,
          4.117647058823529,
          4.224683544303797,
          4.189931350114416,
          4.254901960784314,
          4.285714285714286,
          4.134328358208955,
          4.2272727272727275,
          4.586956521739131,
          4.793478260869565,
          4.3861386138613865,
          4,
          4.523605150214593,
          4.041884816753926,
          4.198412698412699,
          4.110169491525424,
          4.299107142857143,
          4.464,
          4.144230769230769,
          4.25,
          4.048648648648649,
          4.083333333333333,
          4.384615384615385,
          4.2102272727272725,
          3.7715355805243447,
          4.2,
          4.262962962962963,
          4.25503355704698,
          4.270921985815603,
          4.339712918660287,
          4.2690582959641254,
          4.184,
          4.1466666666666665,
          4.217391304347826,
          4.122950819672131,
          4.170984455958549,
          4.137362637362638,
          4.173210161662817,
          4.224913494809688,
          4.232142857142857,
          4.413043478260869,
          4.321428571428571,
          4.245454545454545,
          4.085714285714285,
          4.243150684931507,
          4.156133828996283,
          4.163265306122449
         ]
        }
       ],
       "layout": {
        "showlegend": true,
        "title": {
         "text": "Average Metrics - Class Level"
        },
        "updatemenus": [
         {
          "active": 0,
          "buttons": [
           {
            "args": [
             {
              "visible": [
               true,
               true,
               true,
               true,
               true,
               true
              ]
             },
             {
              "title": "All"
             }
            ],
            "label": "All Metrics",
            "method": "update"
           },
           {
            "args": [
             {
              "visible": [
               true,
               false,
               false,
               false,
               false,
               false
              ]
             },
             {
              "title": "Avg Pace"
             }
            ],
            "label": "Mastery",
            "method": "update"
           },
           {
            "args": [
             {
              "visible": [
               false,
               true,
               false,
               false,
               false,
               false
              ]
             },
             {
              "title": "Avg Support"
             }
            ],
            "label": "Support",
            "method": "update"
           },
           {
            "args": [
             {
              "visible": [
               false,
               false,
               true,
               false,
               false,
               false
              ]
             },
             {
              "title": "Avg Support"
             }
            ],
            "label": "Pace",
            "method": "update"
           },
           {
            "args": [
             {
              "visible": [
               false,
               false,
               false,
               true,
               false,
               false
              ]
             },
             {
              "title": "Ins Knowledge"
             }
            ],
            "label": "Instructor Knowledge",
            "method": "update"
           },
           {
            "args": [
             {
              "visible": [
               false,
               true,
               false,
               false,
               false,
               false
              ]
             },
             {
              "title": "Instructor Clarity"
             }
            ],
            "label": "Instrutor Clarity",
            "method": "update"
           },
           {
            "args": [
             {
              "visible": [
               false,
               true,
               false,
               false,
               false,
               false
              ]
             },
             {
              "title": "Instructor Engagement"
             }
            ],
            "label": "Instrutor Engagement",
            "method": "update"
           }
          ]
         }
        ],
        "xaxis": {
         "title": {
          "text": "Classes"
         }
        },
        "yaxis": {
         "title": {
          "text": "Avg Score"
         }
        }
       }
      },
      "text/html": [
       "<div>\n",
       "        \n",
       "        \n",
       "            <div id=\"ee0aa3b2-5c4f-4988-9e56-dea78a120393\" class=\"plotly-graph-div\" style=\"height:525px; width:100%;\"></div>\n",
       "            <script type=\"text/javascript\">\n",
       "                require([\"plotly\"], function(Plotly) {\n",
       "                    window.PLOTLYENV=window.PLOTLYENV || {};\n",
       "                    window.PLOTLYENV.BASE_URL='https://plot.ly';\n",
       "                    \n",
       "                if (document.getElementById(\"ee0aa3b2-5c4f-4988-9e56-dea78a120393\")) {\n",
       "                    Plotly.newPlot(\n",
       "                        'ee0aa3b2-5c4f-4988-9e56-dea78a120393',\n",
       "                        [{\"name\": \"Mastery\", \"type\": \"bar\", \"uid\": \"b87beeeb-5530-4baf-b29a-bc323c4d3eaf\", \"x\": [\"Class 1\", \"Class 10\", \"Class 100\", \"Class 101\", \"Class 104\", \"Class 105\", \"Class 106\", \"Class 107\", \"Class 108\", \"Class 109\", \"Class 11\", \"Class 110\", \"Class 111\", \"Class 112\", \"Class 113\", \"Class 114\", \"Class 117\", \"Class 118\", \"Class 119\", \"Class 12\", \"Class 120\", \"Class 121\", \"Class 13\", \"Class 14\", \"Class 15\", \"Class 17\", \"Class 18\", \"Class 19\", \"Class 2\", \"Class 20\", \"Class 21\", \"Class 22\", \"Class 23\", \"Class 24\", \"Class 25\", \"Class 26\", \"Class 27\", \"Class 28\", \"Class 29\", \"Class 3\", \"Class 30\", \"Class 31\", \"Class 34\", \"Class 35\", \"Class 36\", \"Class 37\", \"Class 38\", \"Class 39\", \"Class 4\", \"Class 40\", \"Class 42\", \"Class 43\", \"Class 44\", \"Class 45\", \"Class 48\", \"Class 5\", \"Class 51\", \"Class 52\", \"Class 53\", \"Class 54\", \"Class 55\", \"Class 56\", \"Class 57\", \"Class 58\", \"Class 59\", \"Class 6\", \"Class 60\", \"Class 61\", \"Class 62\", \"Class 63\", \"Class 64\", \"Class 7\", \"Class 71\", \"Class 72\", \"Class 73\", \"Class 74\", \"Class 75\", \"Class 76\", \"Class 77\", \"Class 78\", \"Class 8\", \"Class 82\", \"Class 83\", \"Class 9\", \"Class 90\", \"Class 91\", \"Class 92\", \"Class 93\", \"Class 94\", \"Class 95\"], \"y\": [3.5330578512396693, 3.4460093896713615, 3.3045977011494254, 3.1839622641509435, 2.4, 3.2857142857142856, 3.3157894736842106, 3.027027027027027, 3.0517241379310347, 3.180327868852459, 3.424390243902439, 3.1692913385826773, 3.323741007194245, 3.060344827586207, 3.4158415841584158, 3.0930232558139537, 3.30635838150289, 3.373205741626794, 3.3982558139534884, 3.3455882352941178, 3.3399209486166006, 3.319672131147541, 3.9216867469879517, 3.231527093596059, 3.248847926267281, 3.1902173913043477, 3.4450549450549453, 3.28060263653484, 3.4628378378378377, 3.3746630727762805, 3.74468085106383, 2.918421052631579, 3.580508474576271, 3.6470588235294117, 3.6153846153846154, 3.417391304347826, 3.323943661971831, 3.064935064935065, 3.3533333333333335, 3.4740259740259742, 3.5335195530726256, 3.4049295774647885, 3.31700288184438, 3.4272445820433437, 3.2975778546712804, 3.430379746835443, 3.4416475972540046, 3.372549019607843, 3.3877551020408165, 3.218905472636816, 3.356060606060606, 3.652173913043478, 3.489130434782609, 3.4356435643564356, 4.0, 3.6824034334763946, 3.167539267015707, 3.376984126984127, 3.26271186440678, 3.549107142857143, 3.416, 3.389423076923077, 3.25, 3.2486486486486488, 3.1666666666666665, 3.57085020242915, 3.284090909090909, 2.9737827715355807, 3.2, 3.2037037037037037, 3.204697986577181, 3.4936170212765956, 3.430622009569378, 3.3497757847533634, 3.288, 3.2844444444444445, 3.2049689440993787, 3.278688524590164, 3.2797927461139897, 3.098901098901099, 3.3810623556581985, 3.397923875432526, 3.4178571428571427, 3.3956521739130436, 3.267857142857143, 3.3863636363636362, 3.325, 3.3664383561643834, 3.159851301115242, 3.089795918367347]}, {\"name\": \"Support\", \"type\": \"bar\", \"uid\": \"b6fe1316-4856-439e-817d-c696396af48f\", \"x\": [\"Class 1\", \"Class 10\", \"Class 100\", \"Class 101\", \"Class 104\", \"Class 105\", \"Class 106\", \"Class 107\", \"Class 108\", \"Class 109\", \"Class 11\", \"Class 110\", \"Class 111\", \"Class 112\", \"Class 113\", \"Class 114\", \"Class 117\", \"Class 118\", \"Class 119\", \"Class 12\", \"Class 120\", \"Class 121\", \"Class 13\", \"Class 14\", \"Class 15\", \"Class 17\", \"Class 18\", \"Class 19\", \"Class 2\", \"Class 20\", \"Class 21\", \"Class 22\", \"Class 23\", \"Class 24\", \"Class 25\", \"Class 26\", \"Class 27\", \"Class 28\", \"Class 29\", \"Class 3\", \"Class 30\", \"Class 31\", \"Class 34\", \"Class 35\", \"Class 36\", \"Class 37\", \"Class 38\", \"Class 39\", \"Class 4\", \"Class 40\", \"Class 42\", \"Class 43\", \"Class 44\", \"Class 45\", \"Class 48\", \"Class 5\", \"Class 51\", \"Class 52\", \"Class 53\", \"Class 54\", \"Class 55\", \"Class 56\", \"Class 57\", \"Class 58\", \"Class 59\", \"Class 6\", \"Class 60\", \"Class 61\", \"Class 62\", \"Class 63\", \"Class 64\", \"Class 7\", \"Class 71\", \"Class 72\", \"Class 73\", \"Class 74\", \"Class 75\", \"Class 76\", \"Class 77\", \"Class 78\", \"Class 8\", \"Class 82\", \"Class 83\", \"Class 9\", \"Class 90\", \"Class 91\", \"Class 92\", \"Class 93\", \"Class 94\", \"Class 95\"], \"y\": [4.231404958677686, 4.15962441314554, 4.091954022988506, 4.136792452830188, 4.0, 4.142857142857143, 4.157894736842105, 3.891891891891892, 4.181034482758621, 4.147540983606557, 4.219512195121951, 3.9763779527559056, 4.215827338129497, 4.008620689655173, 4.297029702970297, 4.023255813953488, 4.173410404624278, 4.177033492822966, 4.087209302325581, 4.188725490196078, 4.229249011857707, 4.114754098360656, 4.548192771084337, 4.123152709359606, 4.142857142857143, 4.059782608695652, 4.225274725274725, 4.222222222222222, 4.081081081081081, 4.3126684636118595, 4.595744680851064, 3.7710526315789474, 4.101694915254237, 4.588235294117647, 4.269230769230769, 4.047826086956522, 4.070422535211268, 4.298701298701299, 4.333333333333333, 4.268398268398268, 4.293296089385475, 4.27112676056338, 4.236311239193084, 4.226006191950464, 4.093425605536332, 4.218354430379747, 4.160183066361556, 4.176470588235294, 4.233236151603498, 4.0497512437810945, 4.03030303030303, 4.717391304347826, 4.6521739130434785, 4.396039603960396, 4.5, 4.416309012875536, 3.905759162303665, 4.234126984126984, 4.139830508474576, 4.299107142857143, 4.152, 4.091346153846154, 4.25, 3.772972972972973, 3.75, 4.364372469635628, 4.1875, 3.8127340823970037, 4.126315789473685, 4.125925925925926, 4.151006711409396, 4.278014184397163, 4.29665071770335, 4.179372197309417, 4.148, 4.1066666666666665, 4.086956521739131, 4.024590163934426, 4.134715025906735, 4.093406593406593, 4.200923787528868, 4.131487889273356, 4.225, 4.3130434782608695, 4.174107142857143, 4.081818181818182, 4.114285714285714, 4.208904109589041, 4.211895910780669, 4.089795918367347]}, {\"name\": \"Pace\", \"type\": \"bar\", \"uid\": \"59810735-3cdb-43a4-9ec7-a9cde16095fc\", \"x\": [\"Class 1\", \"Class 10\", \"Class 100\", \"Class 101\", \"Class 104\", \"Class 105\", \"Class 106\", \"Class 107\", \"Class 108\", \"Class 109\", \"Class 11\", \"Class 110\", \"Class 111\", \"Class 112\", \"Class 113\", \"Class 114\", \"Class 117\", \"Class 118\", \"Class 119\", \"Class 12\", \"Class 120\", \"Class 121\", \"Class 13\", \"Class 14\", \"Class 15\", \"Class 17\", \"Class 18\", \"Class 19\", \"Class 2\", \"Class 20\", \"Class 21\", \"Class 22\", \"Class 23\", \"Class 24\", \"Class 25\", \"Class 26\", \"Class 27\", \"Class 28\", \"Class 29\", \"Class 3\", \"Class 30\", \"Class 31\", \"Class 34\", \"Class 35\", \"Class 36\", \"Class 37\", \"Class 38\", \"Class 39\", \"Class 4\", \"Class 40\", \"Class 42\", \"Class 43\", \"Class 44\", \"Class 45\", \"Class 48\", \"Class 5\", \"Class 51\", \"Class 52\", \"Class 53\", \"Class 54\", \"Class 55\", \"Class 56\", \"Class 57\", \"Class 58\", \"Class 59\", \"Class 6\", \"Class 60\", \"Class 61\", \"Class 62\", \"Class 63\", \"Class 64\", \"Class 7\", \"Class 71\", \"Class 72\", \"Class 73\", \"Class 74\", \"Class 75\", \"Class 76\", \"Class 77\", \"Class 78\", \"Class 8\", \"Class 82\", \"Class 83\", \"Class 9\", \"Class 90\", \"Class 91\", \"Class 92\", \"Class 93\", \"Class 94\", \"Class 95\"], \"y\": [3.9132231404958677, 4.07981220657277, 3.632183908045977, 3.891509433962264, 3.9, 3.380952380952381, 3.6578947368421053, 3.918918918918919, 3.560344827586207, 3.6147540983606556, 3.797560975609756, 3.677165354330709, 3.5575539568345325, 3.7672413793103448, 3.792079207920792, 3.744186046511628, 3.8265895953757227, 3.722488038277512, 3.796511627906977, 3.9142156862745097, 3.869565217391304, 3.7745901639344264, 4.331325301204819, 3.876847290640394, 3.751152073732719, 3.8152173913043477, 3.8076923076923075, 3.6854990583804144, 3.722972972972973, 3.9703504043126685, 4.25, 3.463157894736842, 3.9279661016949152, 3.8823529411764706, 3.9615384615384617, 3.747826086956522, 3.76056338028169, 3.857142857142857, 3.8466666666666667, 3.878787878787879, 3.776536312849162, 3.7746478873239435, 3.7953890489913547, 3.7430340557275543, 3.6782006920415227, 3.8765822784810124, 3.8535469107551488, 3.65359477124183, 3.889212827988338, 3.646766169154229, 3.765151515151515, 4.195652173913044, 4.260869565217392, 4.217821782178218, 3.5, 4.334763948497854, 3.575916230366492, 3.7777777777777777, 3.7711864406779663, 3.8080357142857144, 3.864, 3.8461538461538463, 3.25, 3.675675675675676, 3.4583333333333335, 4.129554655870446, 3.715909090909091, 3.3707865168539324, 3.6842105263157894, 3.77037037037037, 3.634228187919463, 3.8439716312056738, 3.9043062200956937, 3.789237668161435, 3.744, 3.72, 3.5838509316770186, 3.4918032786885247, 3.7357512953367875, 3.6648351648351647, 3.7505773672055427, 3.737024221453287, 3.7928571428571427, 3.7130434782608694, 3.5267857142857144, 3.6454545454545455, 3.767857142857143, 3.845890410958904, 3.866171003717472, 3.7224489795918365]}, {\"name\": \"Ins. Know\", \"type\": \"bar\", \"uid\": \"44fa7541-bf36-4f38-95dc-29e868fc5b53\", \"x\": [\"Class 1\", \"Class 10\", \"Class 100\", \"Class 101\", \"Class 104\", \"Class 105\", \"Class 106\", \"Class 107\", \"Class 108\", \"Class 109\", \"Class 11\", \"Class 110\", \"Class 111\", \"Class 112\", \"Class 113\", \"Class 114\", \"Class 117\", \"Class 118\", \"Class 119\", \"Class 12\", \"Class 120\", \"Class 121\", \"Class 13\", \"Class 14\", \"Class 15\", \"Class 17\", \"Class 18\", \"Class 19\", \"Class 2\", \"Class 20\", \"Class 21\", \"Class 22\", \"Class 23\", \"Class 24\", \"Class 25\", \"Class 26\", \"Class 27\", \"Class 28\", \"Class 29\", \"Class 3\", \"Class 30\", \"Class 31\", \"Class 34\", \"Class 35\", \"Class 36\", \"Class 37\", \"Class 38\", \"Class 39\", \"Class 4\", \"Class 40\", \"Class 42\", \"Class 43\", \"Class 44\", \"Class 45\", \"Class 48\", \"Class 5\", \"Class 51\", \"Class 52\", \"Class 53\", \"Class 54\", \"Class 55\", \"Class 56\", \"Class 57\", \"Class 58\", \"Class 59\", \"Class 6\", \"Class 60\", \"Class 61\", \"Class 62\", \"Class 63\", \"Class 64\", \"Class 7\", \"Class 71\", \"Class 72\", \"Class 73\", \"Class 74\", \"Class 75\", \"Class 76\", \"Class 77\", \"Class 78\", \"Class 8\", \"Class 82\", \"Class 83\", \"Class 9\", \"Class 90\", \"Class 91\", \"Class 92\", \"Class 93\", \"Class 94\", \"Class 95\"], \"y\": [4.409090909090909, 4.704225352112676, 4.373563218390805, 4.537735849056604, 4.3, 4.333333333333333, 4.5, 4.486486486486487, 4.663793103448276, 4.467213114754099, 4.590243902439024, 4.515748031496063, 4.539568345323741, 4.353448275862069, 4.663366336633663, 4.476744186046512, 4.502890173410405, 4.578947368421052, 4.598837209302325, 4.546568627450981, 4.458498023715415, 4.479508196721311, 4.740963855421687, 4.684729064039409, 4.497695852534562, 4.445652173913044, 4.510989010989011, 4.5141242937853105, 4.4391891891891895, 4.660377358490566, 4.829787234042553, 4.389473684210526, 4.237288135593221, 4.764705882352941, 4.615384615384615, 4.3826086956521735, 4.563380281690141, 4.766233766233766, 4.626666666666667, 4.571428571428571, 4.592178770949721, 4.524647887323944, 4.5590778097982705, 4.526315789473684, 4.439446366782007, 4.474683544303797, 4.482837528604119, 4.562091503267974, 4.574344023323615, 4.527363184079602, 4.537878787878788, 4.717391304347826, 4.891304347826087, 4.712871287128713, 4.5, 4.695278969957082, 4.371727748691099, 4.511904761904762, 4.330508474576271, 4.602678571428571, 4.688, 4.403846153846154, 4.75, 4.308108108108108, 4.583333333333333, 4.668016194331984, 4.653409090909091, 4.123595505617978, 4.6421052631578945, 4.548148148148148, 4.560402684563758, 4.520567375886525, 4.564593301435407, 4.493273542600897, 4.456, 4.453333333333333, 4.590062111801243, 4.549180327868853, 4.518134715025907, 4.56043956043956, 4.484988452655889, 4.477508650519031, 4.564285714285714, 4.630434782608695, 4.660714285714286, 4.5, 4.392857142857143, 4.534246575342466, 4.4907063197026025, 4.457142857142857]}, {\"name\": \"Ins. Clarity\", \"type\": \"bar\", \"uid\": \"e1fa3e58-eb2d-4c05-af48-78518c219e3b\", \"x\": [\"Class 1\", \"Class 10\", \"Class 100\", \"Class 101\", \"Class 104\", \"Class 105\", \"Class 106\", \"Class 107\", \"Class 108\", \"Class 109\", \"Class 11\", \"Class 110\", \"Class 111\", \"Class 112\", \"Class 113\", \"Class 114\", \"Class 117\", \"Class 118\", \"Class 119\", \"Class 12\", \"Class 120\", \"Class 121\", \"Class 13\", \"Class 14\", \"Class 15\", \"Class 17\", \"Class 18\", \"Class 19\", \"Class 2\", \"Class 20\", \"Class 21\", \"Class 22\", \"Class 23\", \"Class 24\", \"Class 25\", \"Class 26\", \"Class 27\", \"Class 28\", \"Class 29\", \"Class 3\", \"Class 30\", \"Class 31\", \"Class 34\", \"Class 35\", \"Class 36\", \"Class 37\", \"Class 38\", \"Class 39\", \"Class 4\", \"Class 40\", \"Class 42\", \"Class 43\", \"Class 44\", \"Class 45\", \"Class 48\", \"Class 5\", \"Class 51\", \"Class 52\", \"Class 53\", \"Class 54\", \"Class 55\", \"Class 56\", \"Class 57\", \"Class 58\", \"Class 59\", \"Class 6\", \"Class 60\", \"Class 61\", \"Class 62\", \"Class 63\", \"Class 64\", \"Class 7\", \"Class 71\", \"Class 72\", \"Class 73\", \"Class 74\", \"Class 75\", \"Class 76\", \"Class 77\", \"Class 78\", \"Class 8\", \"Class 82\", \"Class 83\", \"Class 9\", \"Class 90\", \"Class 91\", \"Class 92\", \"Class 93\", \"Class 94\", \"Class 95\"], \"y\": [4.045454545454546, 4.338028169014085, 4.126436781609195, 4.179245283018868, 4.0, 4.285714285714286, 4.131578947368421, 4.108108108108108, 4.181034482758621, 4.016393442622951, 4.1658536585365855, 4.094488188976378, 4.244604316546763, 4.051724137931035, 4.336633663366337, 4.034883720930233, 4.202312138728324, 4.239234449760765, 4.238372093023256, 4.169117647058823, 4.169960474308301, 4.135245901639344, 4.602409638554217, 4.266009852216749, 4.04147465437788, 4.059782608695652, 4.2032967032967035, 4.094161958568738, 3.9594594594594597, 4.177897574123989, 4.48936170212766, 3.6789473684210527, 4.059322033898305, 4.294117647058823, 3.769230769230769, 4.147826086956521, 4.154929577464789, 4.376623376623376, 4.24, 4.207792207792208, 4.20391061452514, 4.235915492957746, 4.227665706051873, 4.145510835913313, 4.069204152249135, 4.189873417721519, 4.187643020594965, 4.222222222222222, 4.236151603498542, 4.124378109452737, 3.992424242424242, 4.3478260869565215, 4.391304347826087, 4.396039603960396, 4.5, 4.3218884120171674, 3.722513089005236, 4.2023809523809526, 4.02542372881356, 4.299107142857143, 4.24, 4.115384615384615, 4.5, 3.9405405405405407, 4.25, 4.303643724696356, 4.267045454545454, 3.651685393258427, 4.147368421052631, 4.133333333333334, 4.167785234899329, 4.228368794326241, 4.301435406698564, 4.246636771300448, 4.172, 4.168888888888889, 4.192546583850931, 4.0, 4.124352331606218, 4.065934065934066, 4.124711316397229, 4.145328719723183, 4.210714285714285, 4.352173913043479, 4.209821428571429, 4.181818181818182, 4.042857142857143, 4.181506849315069, 4.159851301115242, 4.171428571428572]}, {\"name\": \"Ins. Engagement\", \"type\": \"bar\", \"uid\": \"6430e253-9fd3-4fe4-ae0c-8c9ce2f2149c\", \"x\": [\"Class 1\", \"Class 10\", \"Class 100\", \"Class 101\", \"Class 104\", \"Class 105\", \"Class 106\", \"Class 107\", \"Class 108\", \"Class 109\", \"Class 11\", \"Class 110\", \"Class 111\", \"Class 112\", \"Class 113\", \"Class 114\", \"Class 117\", \"Class 118\", \"Class 119\", \"Class 12\", \"Class 120\", \"Class 121\", \"Class 13\", \"Class 14\", \"Class 15\", \"Class 17\", \"Class 18\", \"Class 19\", \"Class 2\", \"Class 20\", \"Class 21\", \"Class 22\", \"Class 23\", \"Class 24\", \"Class 25\", \"Class 26\", \"Class 27\", \"Class 28\", \"Class 29\", \"Class 3\", \"Class 30\", \"Class 31\", \"Class 34\", \"Class 35\", \"Class 36\", \"Class 37\", \"Class 38\", \"Class 39\", \"Class 4\", \"Class 40\", \"Class 42\", \"Class 43\", \"Class 44\", \"Class 45\", \"Class 48\", \"Class 5\", \"Class 51\", \"Class 52\", \"Class 53\", \"Class 54\", \"Class 55\", \"Class 56\", \"Class 57\", \"Class 58\", \"Class 59\", \"Class 6\", \"Class 60\", \"Class 61\", \"Class 62\", \"Class 63\", \"Class 64\", \"Class 7\", \"Class 71\", \"Class 72\", \"Class 73\", \"Class 74\", \"Class 75\", \"Class 76\", \"Class 77\", \"Class 78\", \"Class 8\", \"Class 82\", \"Class 83\", \"Class 9\", \"Class 90\", \"Class 91\", \"Class 92\", \"Class 93\", \"Class 94\", \"Class 95\"], \"y\": [4.086776859504132, 4.44131455399061, 4.155172413793103, 4.264150943396227, 4.1, 4.238095238095238, 4.078947368421052, 4.081081081081081, 4.336206896551724, 4.131147540983607, 4.263414634146342, 4.181102362204724, 4.316546762589928, 4.181034482758621, 4.366336633663367, 4.0813953488372094, 4.23121387283237, 4.291866028708134, 4.3023255813953485, 4.208333333333333, 4.225296442687747, 4.184426229508197, 4.650602409638554, 4.443349753694581, 4.147465437788019, 4.173913043478261, 4.225274725274725, 4.175141242937853, 4.054054054054054, 4.3261455525606465, 4.691489361702128, 3.905263157894737, 4.110169491525424, 4.117647058823529, 4.1923076923076925, 4.21304347826087, 4.295774647887324, 4.597402597402597, 4.326666666666667, 4.294372294372295, 4.298882681564246, 4.235915492957746, 4.314121037463977, 4.201238390092879, 4.117647058823529, 4.224683544303797, 4.189931350114416, 4.254901960784314, 4.285714285714286, 4.134328358208955, 4.2272727272727275, 4.586956521739131, 4.793478260869565, 4.3861386138613865, 4.0, 4.523605150214593, 4.041884816753926, 4.198412698412699, 4.110169491525424, 4.299107142857143, 4.464, 4.144230769230769, 4.25, 4.048648648648649, 4.083333333333333, 4.384615384615385, 4.2102272727272725, 3.7715355805243447, 4.2, 4.262962962962963, 4.25503355704698, 4.270921985815603, 4.339712918660287, 4.2690582959641254, 4.184, 4.1466666666666665, 4.217391304347826, 4.122950819672131, 4.170984455958549, 4.137362637362638, 4.173210161662817, 4.224913494809688, 4.232142857142857, 4.413043478260869, 4.321428571428571, 4.245454545454545, 4.085714285714285, 4.243150684931507, 4.156133828996283, 4.163265306122449]}],\n",
       "                        {\"showlegend\": true, \"title\": {\"text\": \"Average Metrics - Class Level\"}, \"updatemenus\": [{\"active\": 0, \"buttons\": [{\"args\": [{\"visible\": [true, true, true, true, true, true]}, {\"title\": \"All\"}], \"label\": \"All Metrics\", \"method\": \"update\"}, {\"args\": [{\"visible\": [true, false, false, false, false, false]}, {\"title\": \"Avg Pace\"}], \"label\": \"Mastery\", \"method\": \"update\"}, {\"args\": [{\"visible\": [false, true, false, false, false, false]}, {\"title\": \"Avg Support\"}], \"label\": \"Support\", \"method\": \"update\"}, {\"args\": [{\"visible\": [false, false, true, false, false, false]}, {\"title\": \"Avg Support\"}], \"label\": \"Pace\", \"method\": \"update\"}, {\"args\": [{\"visible\": [false, false, false, true, false, false]}, {\"title\": \"Ins Knowledge\"}], \"label\": \"Instructor Knowledge\", \"method\": \"update\"}, {\"args\": [{\"visible\": [false, true, false, false, false, false]}, {\"title\": \"Instructor Clarity\"}], \"label\": \"Instrutor Clarity\", \"method\": \"update\"}, {\"args\": [{\"visible\": [false, true, false, false, false, false]}, {\"title\": \"Instructor Engagement\"}], \"label\": \"Instrutor Engagement\", \"method\": \"update\"}]}], \"xaxis\": {\"title\": {\"text\": \"Classes\"}}, \"yaxis\": {\"title\": {\"text\": \"Avg Score\"}}},\n",
       "                        {\"showLink\": false, \"linkText\": \"Export to plot.ly\", \"plotlyServerURL\": \"https://plot.ly\", \"responsive\": true}\n",
       "                    ).then(function(){\n",
       "                            \n",
       "var gd = document.getElementById('ee0aa3b2-5c4f-4988-9e56-dea78a120393');\n",
       "var x = new MutationObserver(function (mutations, observer) {{\n",
       "        var display = window.getComputedStyle(gd).display;\n",
       "        if (!display || display === 'none') {{\n",
       "            console.log([gd, 'removed!']);\n",
       "            Plotly.purge(gd);\n",
       "            observer.disconnect();\n",
       "        }}\n",
       "}});\n",
       "\n",
       "// Listen for the removal of the full notebook cells\n",
       "var notebookContainer = gd.closest('#notebook-container');\n",
       "if (notebookContainer) {{\n",
       "    x.observe(notebookContainer, {childList: true});\n",
       "}}\n",
       "\n",
       "// Listen for the clearing of the current output cell\n",
       "var outputEl = gd.closest('.output');\n",
       "if (outputEl) {{\n",
       "    x.observe(outputEl, {childList: true});\n",
       "}}\n",
       "\n",
       "                        })\n",
       "                };\n",
       "                });\n",
       "            </script>\n",
       "        </div>"
      ]
     },
     "metadata": {},
     "output_type": "display_data"
    }
   ],
   "source": [
    "# Set Layout\n",
    "layout = dict(title=\"Average Metrics - Class Level\",\n",
    "              showlegend=True,\n",
    "              xaxis=dict(title=\"Classes\"),\n",
    "              yaxis=dict(title=\"Avg Score\"),\n",
    "              updatemenus=updatemenus)\n",
    "\n",
    "# Store data and layout\n",
    "fig = dict(data=create_traces(class_pivot_table), layout=layout)\n",
    "\n",
    "# Plot bar graph\n",
    "plotly.offline.iplot(fig, filename='cmocean-picker-one-dropdown')"
   ]
  },
  {
   "cell_type": "code",
   "execution_count": 8,
   "metadata": {},
   "outputs": [
    {
     "data": {
      "application/vnd.plotly.v1+json": {
       "config": {
        "linkText": "Export to plot.ly",
        "plotlyServerURL": "https://plot.ly",
        "showLink": false
       },
       "data": [
        {
         "name": "Mastery",
         "type": "bar",
         "uid": "dd37723d-c2fa-4a09-bdde-30fcc1c6b656",
         "x": [
          "Class 1",
          "Class 10",
          "Class 100",
          "Class 101",
          "Class 104",
          "Class 105",
          "Class 106",
          "Class 107",
          "Class 108",
          "Class 109",
          "Class 11",
          "Class 110",
          "Class 111",
          "Class 112",
          "Class 113",
          "Class 114",
          "Class 117",
          "Class 118",
          "Class 119",
          "Class 12",
          "Class 120",
          "Class 121",
          "Class 13",
          "Class 14",
          "Class 15"
         ],
         "y": [
          3.5330578512396693,
          3.4460093896713615,
          3.3045977011494254,
          3.1839622641509435,
          2.4,
          3.2857142857142856,
          3.3157894736842106,
          3.027027027027027,
          3.0517241379310347,
          3.180327868852459,
          3.424390243902439,
          3.1692913385826773,
          3.323741007194245,
          3.060344827586207,
          3.4158415841584158,
          3.0930232558139537,
          3.30635838150289,
          3.373205741626794,
          3.3982558139534884,
          3.3455882352941178,
          3.3399209486166006,
          3.319672131147541,
          3.9216867469879517,
          3.231527093596059,
          3.248847926267281
         ]
        },
        {
         "name": "Support",
         "type": "bar",
         "uid": "0db397df-af65-4dfe-bc95-0992be82af98",
         "x": [
          "Class 1",
          "Class 10",
          "Class 100",
          "Class 101",
          "Class 104",
          "Class 105",
          "Class 106",
          "Class 107",
          "Class 108",
          "Class 109",
          "Class 11",
          "Class 110",
          "Class 111",
          "Class 112",
          "Class 113",
          "Class 114",
          "Class 117",
          "Class 118",
          "Class 119",
          "Class 12",
          "Class 120",
          "Class 121",
          "Class 13",
          "Class 14",
          "Class 15"
         ],
         "y": [
          4.231404958677686,
          4.15962441314554,
          4.091954022988506,
          4.136792452830188,
          4,
          4.142857142857143,
          4.157894736842105,
          3.891891891891892,
          4.181034482758621,
          4.147540983606557,
          4.219512195121951,
          3.9763779527559056,
          4.215827338129497,
          4.008620689655173,
          4.297029702970297,
          4.023255813953488,
          4.173410404624278,
          4.177033492822966,
          4.087209302325581,
          4.188725490196078,
          4.229249011857707,
          4.114754098360656,
          4.548192771084337,
          4.123152709359606,
          4.142857142857143
         ]
        },
        {
         "name": "Pace",
         "type": "bar",
         "uid": "75f660bb-f70d-45d9-acc3-b9553ee7fb71",
         "x": [
          "Class 1",
          "Class 10",
          "Class 100",
          "Class 101",
          "Class 104",
          "Class 105",
          "Class 106",
          "Class 107",
          "Class 108",
          "Class 109",
          "Class 11",
          "Class 110",
          "Class 111",
          "Class 112",
          "Class 113",
          "Class 114",
          "Class 117",
          "Class 118",
          "Class 119",
          "Class 12",
          "Class 120",
          "Class 121",
          "Class 13",
          "Class 14",
          "Class 15"
         ],
         "y": [
          3.9132231404958677,
          4.07981220657277,
          3.632183908045977,
          3.891509433962264,
          3.9,
          3.380952380952381,
          3.6578947368421053,
          3.918918918918919,
          3.560344827586207,
          3.6147540983606556,
          3.797560975609756,
          3.677165354330709,
          3.5575539568345325,
          3.7672413793103448,
          3.792079207920792,
          3.744186046511628,
          3.8265895953757227,
          3.722488038277512,
          3.796511627906977,
          3.9142156862745097,
          3.869565217391304,
          3.7745901639344264,
          4.331325301204819,
          3.876847290640394,
          3.751152073732719
         ]
        },
        {
         "name": "Ins. Know",
         "type": "bar",
         "uid": "42889d10-d508-4598-94af-34741b189ef8",
         "x": [
          "Class 1",
          "Class 10",
          "Class 100",
          "Class 101",
          "Class 104",
          "Class 105",
          "Class 106",
          "Class 107",
          "Class 108",
          "Class 109",
          "Class 11",
          "Class 110",
          "Class 111",
          "Class 112",
          "Class 113",
          "Class 114",
          "Class 117",
          "Class 118",
          "Class 119",
          "Class 12",
          "Class 120",
          "Class 121",
          "Class 13",
          "Class 14",
          "Class 15"
         ],
         "y": [
          4.409090909090909,
          4.704225352112676,
          4.373563218390805,
          4.537735849056604,
          4.3,
          4.333333333333333,
          4.5,
          4.486486486486487,
          4.663793103448276,
          4.467213114754099,
          4.590243902439024,
          4.515748031496063,
          4.539568345323741,
          4.353448275862069,
          4.663366336633663,
          4.476744186046512,
          4.502890173410405,
          4.578947368421052,
          4.598837209302325,
          4.546568627450981,
          4.458498023715415,
          4.479508196721311,
          4.740963855421687,
          4.684729064039409,
          4.497695852534562
         ]
        },
        {
         "name": "Ins. Clarity",
         "type": "bar",
         "uid": "d3453de5-8f23-413d-9ef4-6c864a2c649f",
         "x": [
          "Class 1",
          "Class 10",
          "Class 100",
          "Class 101",
          "Class 104",
          "Class 105",
          "Class 106",
          "Class 107",
          "Class 108",
          "Class 109",
          "Class 11",
          "Class 110",
          "Class 111",
          "Class 112",
          "Class 113",
          "Class 114",
          "Class 117",
          "Class 118",
          "Class 119",
          "Class 12",
          "Class 120",
          "Class 121",
          "Class 13",
          "Class 14",
          "Class 15"
         ],
         "y": [
          4.045454545454546,
          4.338028169014085,
          4.126436781609195,
          4.179245283018868,
          4,
          4.285714285714286,
          4.131578947368421,
          4.108108108108108,
          4.181034482758621,
          4.016393442622951,
          4.1658536585365855,
          4.094488188976378,
          4.244604316546763,
          4.051724137931035,
          4.336633663366337,
          4.034883720930233,
          4.202312138728324,
          4.239234449760765,
          4.238372093023256,
          4.169117647058823,
          4.169960474308301,
          4.135245901639344,
          4.602409638554217,
          4.266009852216749,
          4.04147465437788
         ]
        },
        {
         "name": "Ins. Engagement",
         "type": "bar",
         "uid": "7a4d85ac-2823-45b6-ae26-2a8221d546d0",
         "x": [
          "Class 1",
          "Class 10",
          "Class 100",
          "Class 101",
          "Class 104",
          "Class 105",
          "Class 106",
          "Class 107",
          "Class 108",
          "Class 109",
          "Class 11",
          "Class 110",
          "Class 111",
          "Class 112",
          "Class 113",
          "Class 114",
          "Class 117",
          "Class 118",
          "Class 119",
          "Class 12",
          "Class 120",
          "Class 121",
          "Class 13",
          "Class 14",
          "Class 15"
         ],
         "y": [
          4.086776859504132,
          4.44131455399061,
          4.155172413793103,
          4.264150943396227,
          4.1,
          4.238095238095238,
          4.078947368421052,
          4.081081081081081,
          4.336206896551724,
          4.131147540983607,
          4.263414634146342,
          4.181102362204724,
          4.316546762589928,
          4.181034482758621,
          4.366336633663367,
          4.0813953488372094,
          4.23121387283237,
          4.291866028708134,
          4.3023255813953485,
          4.208333333333333,
          4.225296442687747,
          4.184426229508197,
          4.650602409638554,
          4.443349753694581,
          4.147465437788019
         ]
        }
       ],
       "layout": {
        "showlegend": true,
        "title": {
         "text": "Average Metrics - Class Level"
        },
        "updatemenus": [
         {
          "active": 0,
          "buttons": [
           {
            "args": [
             {
              "visible": [
               true,
               true,
               true,
               true,
               true,
               true
              ]
             },
             {
              "title": "All"
             }
            ],
            "label": "All Metrics",
            "method": "update"
           },
           {
            "args": [
             {
              "visible": [
               true,
               false,
               false,
               false,
               false,
               false
              ]
             },
             {
              "title": "Avg Pace"
             }
            ],
            "label": "Mastery",
            "method": "update"
           },
           {
            "args": [
             {
              "visible": [
               false,
               true,
               false,
               false,
               false,
               false
              ]
             },
             {
              "title": "Avg Support"
             }
            ],
            "label": "Support",
            "method": "update"
           },
           {
            "args": [
             {
              "visible": [
               false,
               false,
               true,
               false,
               false,
               false
              ]
             },
             {
              "title": "Avg Support"
             }
            ],
            "label": "Pace",
            "method": "update"
           },
           {
            "args": [
             {
              "visible": [
               false,
               false,
               false,
               true,
               false,
               false
              ]
             },
             {
              "title": "Ins Knowledge"
             }
            ],
            "label": "Instructor Knowledge",
            "method": "update"
           },
           {
            "args": [
             {
              "visible": [
               false,
               true,
               false,
               false,
               false,
               false
              ]
             },
             {
              "title": "Instructor Clarity"
             }
            ],
            "label": "Instrutor Clarity",
            "method": "update"
           },
           {
            "args": [
             {
              "visible": [
               false,
               true,
               false,
               false,
               false,
               false
              ]
             },
             {
              "title": "Instructor Engagement"
             }
            ],
            "label": "Instrutor Engagement",
            "method": "update"
           }
          ]
         }
        ],
        "xaxis": {
         "title": {
          "text": "Classes"
         }
        },
        "yaxis": {
         "title": {
          "text": "Avg Score"
         }
        }
       }
      },
      "text/html": [
       "<div>\n",
       "        \n",
       "        \n",
       "            <div id=\"37b0e4b5-e63b-4034-8198-f02a5bdbdcf4\" class=\"plotly-graph-div\" style=\"height:525px; width:100%;\"></div>\n",
       "            <script type=\"text/javascript\">\n",
       "                require([\"plotly\"], function(Plotly) {\n",
       "                    window.PLOTLYENV=window.PLOTLYENV || {};\n",
       "                    window.PLOTLYENV.BASE_URL='https://plot.ly';\n",
       "                    \n",
       "                if (document.getElementById(\"37b0e4b5-e63b-4034-8198-f02a5bdbdcf4\")) {\n",
       "                    Plotly.newPlot(\n",
       "                        '37b0e4b5-e63b-4034-8198-f02a5bdbdcf4',\n",
       "                        [{\"name\": \"Mastery\", \"type\": \"bar\", \"uid\": \"dd37723d-c2fa-4a09-bdde-30fcc1c6b656\", \"x\": [\"Class 1\", \"Class 10\", \"Class 100\", \"Class 101\", \"Class 104\", \"Class 105\", \"Class 106\", \"Class 107\", \"Class 108\", \"Class 109\", \"Class 11\", \"Class 110\", \"Class 111\", \"Class 112\", \"Class 113\", \"Class 114\", \"Class 117\", \"Class 118\", \"Class 119\", \"Class 12\", \"Class 120\", \"Class 121\", \"Class 13\", \"Class 14\", \"Class 15\"], \"y\": [3.5330578512396693, 3.4460093896713615, 3.3045977011494254, 3.1839622641509435, 2.4, 3.2857142857142856, 3.3157894736842106, 3.027027027027027, 3.0517241379310347, 3.180327868852459, 3.424390243902439, 3.1692913385826773, 3.323741007194245, 3.060344827586207, 3.4158415841584158, 3.0930232558139537, 3.30635838150289, 3.373205741626794, 3.3982558139534884, 3.3455882352941178, 3.3399209486166006, 3.319672131147541, 3.9216867469879517, 3.231527093596059, 3.248847926267281]}, {\"name\": \"Support\", \"type\": \"bar\", \"uid\": \"0db397df-af65-4dfe-bc95-0992be82af98\", \"x\": [\"Class 1\", \"Class 10\", \"Class 100\", \"Class 101\", \"Class 104\", \"Class 105\", \"Class 106\", \"Class 107\", \"Class 108\", \"Class 109\", \"Class 11\", \"Class 110\", \"Class 111\", \"Class 112\", \"Class 113\", \"Class 114\", \"Class 117\", \"Class 118\", \"Class 119\", \"Class 12\", \"Class 120\", \"Class 121\", \"Class 13\", \"Class 14\", \"Class 15\"], \"y\": [4.231404958677686, 4.15962441314554, 4.091954022988506, 4.136792452830188, 4.0, 4.142857142857143, 4.157894736842105, 3.891891891891892, 4.181034482758621, 4.147540983606557, 4.219512195121951, 3.9763779527559056, 4.215827338129497, 4.008620689655173, 4.297029702970297, 4.023255813953488, 4.173410404624278, 4.177033492822966, 4.087209302325581, 4.188725490196078, 4.229249011857707, 4.114754098360656, 4.548192771084337, 4.123152709359606, 4.142857142857143]}, {\"name\": \"Pace\", \"type\": \"bar\", \"uid\": \"75f660bb-f70d-45d9-acc3-b9553ee7fb71\", \"x\": [\"Class 1\", \"Class 10\", \"Class 100\", \"Class 101\", \"Class 104\", \"Class 105\", \"Class 106\", \"Class 107\", \"Class 108\", \"Class 109\", \"Class 11\", \"Class 110\", \"Class 111\", \"Class 112\", \"Class 113\", \"Class 114\", \"Class 117\", \"Class 118\", \"Class 119\", \"Class 12\", \"Class 120\", \"Class 121\", \"Class 13\", \"Class 14\", \"Class 15\"], \"y\": [3.9132231404958677, 4.07981220657277, 3.632183908045977, 3.891509433962264, 3.9, 3.380952380952381, 3.6578947368421053, 3.918918918918919, 3.560344827586207, 3.6147540983606556, 3.797560975609756, 3.677165354330709, 3.5575539568345325, 3.7672413793103448, 3.792079207920792, 3.744186046511628, 3.8265895953757227, 3.722488038277512, 3.796511627906977, 3.9142156862745097, 3.869565217391304, 3.7745901639344264, 4.331325301204819, 3.876847290640394, 3.751152073732719]}, {\"name\": \"Ins. Know\", \"type\": \"bar\", \"uid\": \"42889d10-d508-4598-94af-34741b189ef8\", \"x\": [\"Class 1\", \"Class 10\", \"Class 100\", \"Class 101\", \"Class 104\", \"Class 105\", \"Class 106\", \"Class 107\", \"Class 108\", \"Class 109\", \"Class 11\", \"Class 110\", \"Class 111\", \"Class 112\", \"Class 113\", \"Class 114\", \"Class 117\", \"Class 118\", \"Class 119\", \"Class 12\", \"Class 120\", \"Class 121\", \"Class 13\", \"Class 14\", \"Class 15\"], \"y\": [4.409090909090909, 4.704225352112676, 4.373563218390805, 4.537735849056604, 4.3, 4.333333333333333, 4.5, 4.486486486486487, 4.663793103448276, 4.467213114754099, 4.590243902439024, 4.515748031496063, 4.539568345323741, 4.353448275862069, 4.663366336633663, 4.476744186046512, 4.502890173410405, 4.578947368421052, 4.598837209302325, 4.546568627450981, 4.458498023715415, 4.479508196721311, 4.740963855421687, 4.684729064039409, 4.497695852534562]}, {\"name\": \"Ins. Clarity\", \"type\": \"bar\", \"uid\": \"d3453de5-8f23-413d-9ef4-6c864a2c649f\", \"x\": [\"Class 1\", \"Class 10\", \"Class 100\", \"Class 101\", \"Class 104\", \"Class 105\", \"Class 106\", \"Class 107\", \"Class 108\", \"Class 109\", \"Class 11\", \"Class 110\", \"Class 111\", \"Class 112\", \"Class 113\", \"Class 114\", \"Class 117\", \"Class 118\", \"Class 119\", \"Class 12\", \"Class 120\", \"Class 121\", \"Class 13\", \"Class 14\", \"Class 15\"], \"y\": [4.045454545454546, 4.338028169014085, 4.126436781609195, 4.179245283018868, 4.0, 4.285714285714286, 4.131578947368421, 4.108108108108108, 4.181034482758621, 4.016393442622951, 4.1658536585365855, 4.094488188976378, 4.244604316546763, 4.051724137931035, 4.336633663366337, 4.034883720930233, 4.202312138728324, 4.239234449760765, 4.238372093023256, 4.169117647058823, 4.169960474308301, 4.135245901639344, 4.602409638554217, 4.266009852216749, 4.04147465437788]}, {\"name\": \"Ins. Engagement\", \"type\": \"bar\", \"uid\": \"7a4d85ac-2823-45b6-ae26-2a8221d546d0\", \"x\": [\"Class 1\", \"Class 10\", \"Class 100\", \"Class 101\", \"Class 104\", \"Class 105\", \"Class 106\", \"Class 107\", \"Class 108\", \"Class 109\", \"Class 11\", \"Class 110\", \"Class 111\", \"Class 112\", \"Class 113\", \"Class 114\", \"Class 117\", \"Class 118\", \"Class 119\", \"Class 12\", \"Class 120\", \"Class 121\", \"Class 13\", \"Class 14\", \"Class 15\"], \"y\": [4.086776859504132, 4.44131455399061, 4.155172413793103, 4.264150943396227, 4.1, 4.238095238095238, 4.078947368421052, 4.081081081081081, 4.336206896551724, 4.131147540983607, 4.263414634146342, 4.181102362204724, 4.316546762589928, 4.181034482758621, 4.366336633663367, 4.0813953488372094, 4.23121387283237, 4.291866028708134, 4.3023255813953485, 4.208333333333333, 4.225296442687747, 4.184426229508197, 4.650602409638554, 4.443349753694581, 4.147465437788019]}],\n",
       "                        {\"showlegend\": true, \"title\": {\"text\": \"Average Metrics - Class Level\"}, \"updatemenus\": [{\"active\": 0, \"buttons\": [{\"args\": [{\"visible\": [true, true, true, true, true, true]}, {\"title\": \"All\"}], \"label\": \"All Metrics\", \"method\": \"update\"}, {\"args\": [{\"visible\": [true, false, false, false, false, false]}, {\"title\": \"Avg Pace\"}], \"label\": \"Mastery\", \"method\": \"update\"}, {\"args\": [{\"visible\": [false, true, false, false, false, false]}, {\"title\": \"Avg Support\"}], \"label\": \"Support\", \"method\": \"update\"}, {\"args\": [{\"visible\": [false, false, true, false, false, false]}, {\"title\": \"Avg Support\"}], \"label\": \"Pace\", \"method\": \"update\"}, {\"args\": [{\"visible\": [false, false, false, true, false, false]}, {\"title\": \"Ins Knowledge\"}], \"label\": \"Instructor Knowledge\", \"method\": \"update\"}, {\"args\": [{\"visible\": [false, true, false, false, false, false]}, {\"title\": \"Instructor Clarity\"}], \"label\": \"Instrutor Clarity\", \"method\": \"update\"}, {\"args\": [{\"visible\": [false, true, false, false, false, false]}, {\"title\": \"Instructor Engagement\"}], \"label\": \"Instrutor Engagement\", \"method\": \"update\"}]}], \"xaxis\": {\"title\": {\"text\": \"Classes\"}}, \"yaxis\": {\"title\": {\"text\": \"Avg Score\"}}},\n",
       "                        {\"showLink\": false, \"linkText\": \"Export to plot.ly\", \"plotlyServerURL\": \"https://plot.ly\", \"responsive\": true}\n",
       "                    ).then(function(){\n",
       "                            \n",
       "var gd = document.getElementById('37b0e4b5-e63b-4034-8198-f02a5bdbdcf4');\n",
       "var x = new MutationObserver(function (mutations, observer) {{\n",
       "        var display = window.getComputedStyle(gd).display;\n",
       "        if (!display || display === 'none') {{\n",
       "            console.log([gd, 'removed!']);\n",
       "            Plotly.purge(gd);\n",
       "            observer.disconnect();\n",
       "        }}\n",
       "}});\n",
       "\n",
       "// Listen for the removal of the full notebook cells\n",
       "var notebookContainer = gd.closest('#notebook-container');\n",
       "if (notebookContainer) {{\n",
       "    x.observe(notebookContainer, {childList: true});\n",
       "}}\n",
       "\n",
       "// Listen for the clearing of the current output cell\n",
       "var outputEl = gd.closest('.output');\n",
       "if (outputEl) {{\n",
       "    x.observe(outputEl, {childList: true});\n",
       "}}\n",
       "\n",
       "                        })\n",
       "                };\n",
       "                });\n",
       "            </script>\n",
       "        </div>"
      ]
     },
     "metadata": {},
     "output_type": "display_data"
    }
   ],
   "source": [
    "first_group = class_pivot_table.iloc[:25]\n",
    "\n",
    "# Set Layout\n",
    "layout = dict(title=\"Average Metrics - Class Level\",\n",
    "              showlegend=True,\n",
    "              xaxis=dict(title=\"Classes\"),\n",
    "              yaxis=dict(title=\"Avg Score\"),\n",
    "              updatemenus=updatemenus)\n",
    "\n",
    "# Store data and layout\n",
    "fig = dict(data=create_traces(first_group), layout=layout)\n",
    "\n",
    "# Plot bar graph\n",
    "plotly.offline.iplot(fig, filename='cmocean-picker-one-dropdown')"
   ]
  },
  {
   "cell_type": "code",
   "execution_count": 9,
   "metadata": {},
   "outputs": [
    {
     "data": {
      "application/vnd.plotly.v1+json": {
       "config": {
        "linkText": "Export to plot.ly",
        "plotlyServerURL": "https://plot.ly",
        "showLink": false
       },
       "data": [
        {
         "name": "Mastery",
         "type": "bar",
         "uid": "fa680590-afe9-4c23-a219-d124350d10e5",
         "x": [
          "Class 17",
          "Class 18",
          "Class 19",
          "Class 2",
          "Class 20",
          "Class 21",
          "Class 22",
          "Class 23",
          "Class 24",
          "Class 25",
          "Class 26",
          "Class 27",
          "Class 28",
          "Class 29",
          "Class 3",
          "Class 30",
          "Class 31",
          "Class 34",
          "Class 35",
          "Class 36",
          "Class 37",
          "Class 38",
          "Class 39",
          "Class 4",
          "Class 40"
         ],
         "y": [
          3.1902173913043477,
          3.4450549450549453,
          3.28060263653484,
          3.4628378378378377,
          3.3746630727762805,
          3.74468085106383,
          2.918421052631579,
          3.580508474576271,
          3.6470588235294117,
          3.6153846153846154,
          3.417391304347826,
          3.323943661971831,
          3.064935064935065,
          3.3533333333333335,
          3.4740259740259742,
          3.5335195530726256,
          3.4049295774647885,
          3.31700288184438,
          3.4272445820433437,
          3.2975778546712804,
          3.430379746835443,
          3.4416475972540046,
          3.372549019607843,
          3.3877551020408165,
          3.218905472636816
         ]
        },
        {
         "name": "Support",
         "type": "bar",
         "uid": "399a7454-b34a-4da8-87f4-1a82a3cdec06",
         "x": [
          "Class 17",
          "Class 18",
          "Class 19",
          "Class 2",
          "Class 20",
          "Class 21",
          "Class 22",
          "Class 23",
          "Class 24",
          "Class 25",
          "Class 26",
          "Class 27",
          "Class 28",
          "Class 29",
          "Class 3",
          "Class 30",
          "Class 31",
          "Class 34",
          "Class 35",
          "Class 36",
          "Class 37",
          "Class 38",
          "Class 39",
          "Class 4",
          "Class 40"
         ],
         "y": [
          4.059782608695652,
          4.225274725274725,
          4.222222222222222,
          4.081081081081081,
          4.3126684636118595,
          4.595744680851064,
          3.7710526315789474,
          4.101694915254237,
          4.588235294117647,
          4.269230769230769,
          4.047826086956522,
          4.070422535211268,
          4.298701298701299,
          4.333333333333333,
          4.268398268398268,
          4.293296089385475,
          4.27112676056338,
          4.236311239193084,
          4.226006191950464,
          4.093425605536332,
          4.218354430379747,
          4.160183066361556,
          4.176470588235294,
          4.233236151603498,
          4.0497512437810945
         ]
        },
        {
         "name": "Pace",
         "type": "bar",
         "uid": "3f304e5c-90b7-4219-8875-b323cf6d647d",
         "x": [
          "Class 17",
          "Class 18",
          "Class 19",
          "Class 2",
          "Class 20",
          "Class 21",
          "Class 22",
          "Class 23",
          "Class 24",
          "Class 25",
          "Class 26",
          "Class 27",
          "Class 28",
          "Class 29",
          "Class 3",
          "Class 30",
          "Class 31",
          "Class 34",
          "Class 35",
          "Class 36",
          "Class 37",
          "Class 38",
          "Class 39",
          "Class 4",
          "Class 40"
         ],
         "y": [
          3.8152173913043477,
          3.8076923076923075,
          3.6854990583804144,
          3.722972972972973,
          3.9703504043126685,
          4.25,
          3.463157894736842,
          3.9279661016949152,
          3.8823529411764706,
          3.9615384615384617,
          3.747826086956522,
          3.76056338028169,
          3.857142857142857,
          3.8466666666666667,
          3.878787878787879,
          3.776536312849162,
          3.7746478873239435,
          3.7953890489913547,
          3.7430340557275543,
          3.6782006920415227,
          3.8765822784810124,
          3.8535469107551488,
          3.65359477124183,
          3.889212827988338,
          3.646766169154229
         ]
        },
        {
         "name": "Ins. Know",
         "type": "bar",
         "uid": "84d61d7f-75fd-410e-8625-c93023611073",
         "x": [
          "Class 17",
          "Class 18",
          "Class 19",
          "Class 2",
          "Class 20",
          "Class 21",
          "Class 22",
          "Class 23",
          "Class 24",
          "Class 25",
          "Class 26",
          "Class 27",
          "Class 28",
          "Class 29",
          "Class 3",
          "Class 30",
          "Class 31",
          "Class 34",
          "Class 35",
          "Class 36",
          "Class 37",
          "Class 38",
          "Class 39",
          "Class 4",
          "Class 40"
         ],
         "y": [
          4.445652173913044,
          4.510989010989011,
          4.5141242937853105,
          4.4391891891891895,
          4.660377358490566,
          4.829787234042553,
          4.389473684210526,
          4.237288135593221,
          4.764705882352941,
          4.615384615384615,
          4.3826086956521735,
          4.563380281690141,
          4.766233766233766,
          4.626666666666667,
          4.571428571428571,
          4.592178770949721,
          4.524647887323944,
          4.5590778097982705,
          4.526315789473684,
          4.439446366782007,
          4.474683544303797,
          4.482837528604119,
          4.562091503267974,
          4.574344023323615,
          4.527363184079602
         ]
        },
        {
         "name": "Ins. Clarity",
         "type": "bar",
         "uid": "047fd6c1-6a9e-4261-b65e-5a0f0d9cad18",
         "x": [
          "Class 17",
          "Class 18",
          "Class 19",
          "Class 2",
          "Class 20",
          "Class 21",
          "Class 22",
          "Class 23",
          "Class 24",
          "Class 25",
          "Class 26",
          "Class 27",
          "Class 28",
          "Class 29",
          "Class 3",
          "Class 30",
          "Class 31",
          "Class 34",
          "Class 35",
          "Class 36",
          "Class 37",
          "Class 38",
          "Class 39",
          "Class 4",
          "Class 40"
         ],
         "y": [
          4.059782608695652,
          4.2032967032967035,
          4.094161958568738,
          3.9594594594594597,
          4.177897574123989,
          4.48936170212766,
          3.6789473684210527,
          4.059322033898305,
          4.294117647058823,
          3.769230769230769,
          4.147826086956521,
          4.154929577464789,
          4.376623376623376,
          4.24,
          4.207792207792208,
          4.20391061452514,
          4.235915492957746,
          4.227665706051873,
          4.145510835913313,
          4.069204152249135,
          4.189873417721519,
          4.187643020594965,
          4.222222222222222,
          4.236151603498542,
          4.124378109452737
         ]
        },
        {
         "name": "Ins. Engagement",
         "type": "bar",
         "uid": "66fb547d-7939-4b09-a811-301235590882",
         "x": [
          "Class 17",
          "Class 18",
          "Class 19",
          "Class 2",
          "Class 20",
          "Class 21",
          "Class 22",
          "Class 23",
          "Class 24",
          "Class 25",
          "Class 26",
          "Class 27",
          "Class 28",
          "Class 29",
          "Class 3",
          "Class 30",
          "Class 31",
          "Class 34",
          "Class 35",
          "Class 36",
          "Class 37",
          "Class 38",
          "Class 39",
          "Class 4",
          "Class 40"
         ],
         "y": [
          4.173913043478261,
          4.225274725274725,
          4.175141242937853,
          4.054054054054054,
          4.3261455525606465,
          4.691489361702128,
          3.905263157894737,
          4.110169491525424,
          4.117647058823529,
          4.1923076923076925,
          4.21304347826087,
          4.295774647887324,
          4.597402597402597,
          4.326666666666667,
          4.294372294372295,
          4.298882681564246,
          4.235915492957746,
          4.314121037463977,
          4.201238390092879,
          4.117647058823529,
          4.224683544303797,
          4.189931350114416,
          4.254901960784314,
          4.285714285714286,
          4.134328358208955
         ]
        }
       ],
       "layout": {
        "showlegend": true,
        "title": {
         "text": "Average Metrics - Class Level"
        },
        "updatemenus": [
         {
          "active": 0,
          "buttons": [
           {
            "args": [
             {
              "visible": [
               true,
               true,
               true,
               true,
               true,
               true
              ]
             },
             {
              "title": "All"
             }
            ],
            "label": "All Metrics",
            "method": "update"
           },
           {
            "args": [
             {
              "visible": [
               true,
               false,
               false,
               false,
               false,
               false
              ]
             },
             {
              "title": "Avg Pace"
             }
            ],
            "label": "Mastery",
            "method": "update"
           },
           {
            "args": [
             {
              "visible": [
               false,
               true,
               false,
               false,
               false,
               false
              ]
             },
             {
              "title": "Avg Support"
             }
            ],
            "label": "Support",
            "method": "update"
           },
           {
            "args": [
             {
              "visible": [
               false,
               false,
               true,
               false,
               false,
               false
              ]
             },
             {
              "title": "Avg Support"
             }
            ],
            "label": "Pace",
            "method": "update"
           },
           {
            "args": [
             {
              "visible": [
               false,
               false,
               false,
               true,
               false,
               false
              ]
             },
             {
              "title": "Ins Knowledge"
             }
            ],
            "label": "Instructor Knowledge",
            "method": "update"
           },
           {
            "args": [
             {
              "visible": [
               false,
               true,
               false,
               false,
               false,
               false
              ]
             },
             {
              "title": "Instructor Clarity"
             }
            ],
            "label": "Instrutor Clarity",
            "method": "update"
           },
           {
            "args": [
             {
              "visible": [
               false,
               true,
               false,
               false,
               false,
               false
              ]
             },
             {
              "title": "Instructor Engagement"
             }
            ],
            "label": "Instrutor Engagement",
            "method": "update"
           }
          ]
         }
        ],
        "xaxis": {
         "title": {
          "text": "Classes"
         }
        },
        "yaxis": {
         "title": {
          "text": "Avg Score"
         }
        }
       }
      },
      "text/html": [
       "<div>\n",
       "        \n",
       "        \n",
       "            <div id=\"f36add9f-048e-4a0c-8f1b-d232553b201e\" class=\"plotly-graph-div\" style=\"height:525px; width:100%;\"></div>\n",
       "            <script type=\"text/javascript\">\n",
       "                require([\"plotly\"], function(Plotly) {\n",
       "                    window.PLOTLYENV=window.PLOTLYENV || {};\n",
       "                    window.PLOTLYENV.BASE_URL='https://plot.ly';\n",
       "                    \n",
       "                if (document.getElementById(\"f36add9f-048e-4a0c-8f1b-d232553b201e\")) {\n",
       "                    Plotly.newPlot(\n",
       "                        'f36add9f-048e-4a0c-8f1b-d232553b201e',\n",
       "                        [{\"name\": \"Mastery\", \"type\": \"bar\", \"uid\": \"fa680590-afe9-4c23-a219-d124350d10e5\", \"x\": [\"Class 17\", \"Class 18\", \"Class 19\", \"Class 2\", \"Class 20\", \"Class 21\", \"Class 22\", \"Class 23\", \"Class 24\", \"Class 25\", \"Class 26\", \"Class 27\", \"Class 28\", \"Class 29\", \"Class 3\", \"Class 30\", \"Class 31\", \"Class 34\", \"Class 35\", \"Class 36\", \"Class 37\", \"Class 38\", \"Class 39\", \"Class 4\", \"Class 40\"], \"y\": [3.1902173913043477, 3.4450549450549453, 3.28060263653484, 3.4628378378378377, 3.3746630727762805, 3.74468085106383, 2.918421052631579, 3.580508474576271, 3.6470588235294117, 3.6153846153846154, 3.417391304347826, 3.323943661971831, 3.064935064935065, 3.3533333333333335, 3.4740259740259742, 3.5335195530726256, 3.4049295774647885, 3.31700288184438, 3.4272445820433437, 3.2975778546712804, 3.430379746835443, 3.4416475972540046, 3.372549019607843, 3.3877551020408165, 3.218905472636816]}, {\"name\": \"Support\", \"type\": \"bar\", \"uid\": \"399a7454-b34a-4da8-87f4-1a82a3cdec06\", \"x\": [\"Class 17\", \"Class 18\", \"Class 19\", \"Class 2\", \"Class 20\", \"Class 21\", \"Class 22\", \"Class 23\", \"Class 24\", \"Class 25\", \"Class 26\", \"Class 27\", \"Class 28\", \"Class 29\", \"Class 3\", \"Class 30\", \"Class 31\", \"Class 34\", \"Class 35\", \"Class 36\", \"Class 37\", \"Class 38\", \"Class 39\", \"Class 4\", \"Class 40\"], \"y\": [4.059782608695652, 4.225274725274725, 4.222222222222222, 4.081081081081081, 4.3126684636118595, 4.595744680851064, 3.7710526315789474, 4.101694915254237, 4.588235294117647, 4.269230769230769, 4.047826086956522, 4.070422535211268, 4.298701298701299, 4.333333333333333, 4.268398268398268, 4.293296089385475, 4.27112676056338, 4.236311239193084, 4.226006191950464, 4.093425605536332, 4.218354430379747, 4.160183066361556, 4.176470588235294, 4.233236151603498, 4.0497512437810945]}, {\"name\": \"Pace\", \"type\": \"bar\", \"uid\": \"3f304e5c-90b7-4219-8875-b323cf6d647d\", \"x\": [\"Class 17\", \"Class 18\", \"Class 19\", \"Class 2\", \"Class 20\", \"Class 21\", \"Class 22\", \"Class 23\", \"Class 24\", \"Class 25\", \"Class 26\", \"Class 27\", \"Class 28\", \"Class 29\", \"Class 3\", \"Class 30\", \"Class 31\", \"Class 34\", \"Class 35\", \"Class 36\", \"Class 37\", \"Class 38\", \"Class 39\", \"Class 4\", \"Class 40\"], \"y\": [3.8152173913043477, 3.8076923076923075, 3.6854990583804144, 3.722972972972973, 3.9703504043126685, 4.25, 3.463157894736842, 3.9279661016949152, 3.8823529411764706, 3.9615384615384617, 3.747826086956522, 3.76056338028169, 3.857142857142857, 3.8466666666666667, 3.878787878787879, 3.776536312849162, 3.7746478873239435, 3.7953890489913547, 3.7430340557275543, 3.6782006920415227, 3.8765822784810124, 3.8535469107551488, 3.65359477124183, 3.889212827988338, 3.646766169154229]}, {\"name\": \"Ins. Know\", \"type\": \"bar\", \"uid\": \"84d61d7f-75fd-410e-8625-c93023611073\", \"x\": [\"Class 17\", \"Class 18\", \"Class 19\", \"Class 2\", \"Class 20\", \"Class 21\", \"Class 22\", \"Class 23\", \"Class 24\", \"Class 25\", \"Class 26\", \"Class 27\", \"Class 28\", \"Class 29\", \"Class 3\", \"Class 30\", \"Class 31\", \"Class 34\", \"Class 35\", \"Class 36\", \"Class 37\", \"Class 38\", \"Class 39\", \"Class 4\", \"Class 40\"], \"y\": [4.445652173913044, 4.510989010989011, 4.5141242937853105, 4.4391891891891895, 4.660377358490566, 4.829787234042553, 4.389473684210526, 4.237288135593221, 4.764705882352941, 4.615384615384615, 4.3826086956521735, 4.563380281690141, 4.766233766233766, 4.626666666666667, 4.571428571428571, 4.592178770949721, 4.524647887323944, 4.5590778097982705, 4.526315789473684, 4.439446366782007, 4.474683544303797, 4.482837528604119, 4.562091503267974, 4.574344023323615, 4.527363184079602]}, {\"name\": \"Ins. Clarity\", \"type\": \"bar\", \"uid\": \"047fd6c1-6a9e-4261-b65e-5a0f0d9cad18\", \"x\": [\"Class 17\", \"Class 18\", \"Class 19\", \"Class 2\", \"Class 20\", \"Class 21\", \"Class 22\", \"Class 23\", \"Class 24\", \"Class 25\", \"Class 26\", \"Class 27\", \"Class 28\", \"Class 29\", \"Class 3\", \"Class 30\", \"Class 31\", \"Class 34\", \"Class 35\", \"Class 36\", \"Class 37\", \"Class 38\", \"Class 39\", \"Class 4\", \"Class 40\"], \"y\": [4.059782608695652, 4.2032967032967035, 4.094161958568738, 3.9594594594594597, 4.177897574123989, 4.48936170212766, 3.6789473684210527, 4.059322033898305, 4.294117647058823, 3.769230769230769, 4.147826086956521, 4.154929577464789, 4.376623376623376, 4.24, 4.207792207792208, 4.20391061452514, 4.235915492957746, 4.227665706051873, 4.145510835913313, 4.069204152249135, 4.189873417721519, 4.187643020594965, 4.222222222222222, 4.236151603498542, 4.124378109452737]}, {\"name\": \"Ins. Engagement\", \"type\": \"bar\", \"uid\": \"66fb547d-7939-4b09-a811-301235590882\", \"x\": [\"Class 17\", \"Class 18\", \"Class 19\", \"Class 2\", \"Class 20\", \"Class 21\", \"Class 22\", \"Class 23\", \"Class 24\", \"Class 25\", \"Class 26\", \"Class 27\", \"Class 28\", \"Class 29\", \"Class 3\", \"Class 30\", \"Class 31\", \"Class 34\", \"Class 35\", \"Class 36\", \"Class 37\", \"Class 38\", \"Class 39\", \"Class 4\", \"Class 40\"], \"y\": [4.173913043478261, 4.225274725274725, 4.175141242937853, 4.054054054054054, 4.3261455525606465, 4.691489361702128, 3.905263157894737, 4.110169491525424, 4.117647058823529, 4.1923076923076925, 4.21304347826087, 4.295774647887324, 4.597402597402597, 4.326666666666667, 4.294372294372295, 4.298882681564246, 4.235915492957746, 4.314121037463977, 4.201238390092879, 4.117647058823529, 4.224683544303797, 4.189931350114416, 4.254901960784314, 4.285714285714286, 4.134328358208955]}],\n",
       "                        {\"showlegend\": true, \"title\": {\"text\": \"Average Metrics - Class Level\"}, \"updatemenus\": [{\"active\": 0, \"buttons\": [{\"args\": [{\"visible\": [true, true, true, true, true, true]}, {\"title\": \"All\"}], \"label\": \"All Metrics\", \"method\": \"update\"}, {\"args\": [{\"visible\": [true, false, false, false, false, false]}, {\"title\": \"Avg Pace\"}], \"label\": \"Mastery\", \"method\": \"update\"}, {\"args\": [{\"visible\": [false, true, false, false, false, false]}, {\"title\": \"Avg Support\"}], \"label\": \"Support\", \"method\": \"update\"}, {\"args\": [{\"visible\": [false, false, true, false, false, false]}, {\"title\": \"Avg Support\"}], \"label\": \"Pace\", \"method\": \"update\"}, {\"args\": [{\"visible\": [false, false, false, true, false, false]}, {\"title\": \"Ins Knowledge\"}], \"label\": \"Instructor Knowledge\", \"method\": \"update\"}, {\"args\": [{\"visible\": [false, true, false, false, false, false]}, {\"title\": \"Instructor Clarity\"}], \"label\": \"Instrutor Clarity\", \"method\": \"update\"}, {\"args\": [{\"visible\": [false, true, false, false, false, false]}, {\"title\": \"Instructor Engagement\"}], \"label\": \"Instrutor Engagement\", \"method\": \"update\"}]}], \"xaxis\": {\"title\": {\"text\": \"Classes\"}}, \"yaxis\": {\"title\": {\"text\": \"Avg Score\"}}},\n",
       "                        {\"showLink\": false, \"linkText\": \"Export to plot.ly\", \"plotlyServerURL\": \"https://plot.ly\", \"responsive\": true}\n",
       "                    ).then(function(){\n",
       "                            \n",
       "var gd = document.getElementById('f36add9f-048e-4a0c-8f1b-d232553b201e');\n",
       "var x = new MutationObserver(function (mutations, observer) {{\n",
       "        var display = window.getComputedStyle(gd).display;\n",
       "        if (!display || display === 'none') {{\n",
       "            console.log([gd, 'removed!']);\n",
       "            Plotly.purge(gd);\n",
       "            observer.disconnect();\n",
       "        }}\n",
       "}});\n",
       "\n",
       "// Listen for the removal of the full notebook cells\n",
       "var notebookContainer = gd.closest('#notebook-container');\n",
       "if (notebookContainer) {{\n",
       "    x.observe(notebookContainer, {childList: true});\n",
       "}}\n",
       "\n",
       "// Listen for the clearing of the current output cell\n",
       "var outputEl = gd.closest('.output');\n",
       "if (outputEl) {{\n",
       "    x.observe(outputEl, {childList: true});\n",
       "}}\n",
       "\n",
       "                        })\n",
       "                };\n",
       "                });\n",
       "            </script>\n",
       "        </div>"
      ]
     },
     "metadata": {},
     "output_type": "display_data"
    }
   ],
   "source": [
    "second_group = class_pivot_table.iloc[25:50]\n",
    "\n",
    "# Set Layout\n",
    "layout = dict(title=\"Average Metrics - Class Level\",\n",
    "              showlegend=True,\n",
    "              xaxis=dict(title=\"Classes\"),\n",
    "              yaxis=dict(title=\"Avg Score\"),\n",
    "              updatemenus=updatemenus)\n",
    "\n",
    "# Store data and layout\n",
    "fig = dict(data=create_traces(second_group), layout=layout)\n",
    "\n",
    "# Plot bar graph\n",
    "plotly.offline.iplot(fig, filename='cmocean-picker-one-dropdown')"
   ]
  },
  {
   "cell_type": "code",
   "execution_count": 10,
   "metadata": {},
   "outputs": [
    {
     "data": {
      "application/vnd.plotly.v1+json": {
       "config": {
        "linkText": "Export to plot.ly",
        "plotlyServerURL": "https://plot.ly",
        "showLink": false
       },
       "data": [
        {
         "name": "Mastery",
         "type": "bar",
         "uid": "e525baa9-685d-44b0-9145-7d9bbec62bdf",
         "x": [
          "Class 42",
          "Class 43",
          "Class 44",
          "Class 45",
          "Class 48",
          "Class 5",
          "Class 51",
          "Class 52",
          "Class 53",
          "Class 54",
          "Class 55",
          "Class 56",
          "Class 57",
          "Class 58",
          "Class 59",
          "Class 6",
          "Class 60",
          "Class 61",
          "Class 62",
          "Class 63",
          "Class 64",
          "Class 7",
          "Class 71",
          "Class 72",
          "Class 73"
         ],
         "y": [
          3.356060606060606,
          3.652173913043478,
          3.489130434782609,
          3.4356435643564356,
          4,
          3.6824034334763946,
          3.167539267015707,
          3.376984126984127,
          3.26271186440678,
          3.549107142857143,
          3.416,
          3.389423076923077,
          3.25,
          3.2486486486486488,
          3.1666666666666665,
          3.57085020242915,
          3.284090909090909,
          2.9737827715355807,
          3.2,
          3.2037037037037037,
          3.204697986577181,
          3.4936170212765956,
          3.430622009569378,
          3.3497757847533634,
          3.288
         ]
        },
        {
         "name": "Support",
         "type": "bar",
         "uid": "4c6d4961-6dd0-46b2-a2f9-39b80580d347",
         "x": [
          "Class 42",
          "Class 43",
          "Class 44",
          "Class 45",
          "Class 48",
          "Class 5",
          "Class 51",
          "Class 52",
          "Class 53",
          "Class 54",
          "Class 55",
          "Class 56",
          "Class 57",
          "Class 58",
          "Class 59",
          "Class 6",
          "Class 60",
          "Class 61",
          "Class 62",
          "Class 63",
          "Class 64",
          "Class 7",
          "Class 71",
          "Class 72",
          "Class 73"
         ],
         "y": [
          4.03030303030303,
          4.717391304347826,
          4.6521739130434785,
          4.396039603960396,
          4.5,
          4.416309012875536,
          3.905759162303665,
          4.234126984126984,
          4.139830508474576,
          4.299107142857143,
          4.152,
          4.091346153846154,
          4.25,
          3.772972972972973,
          3.75,
          4.364372469635628,
          4.1875,
          3.8127340823970037,
          4.126315789473685,
          4.125925925925926,
          4.151006711409396,
          4.278014184397163,
          4.29665071770335,
          4.179372197309417,
          4.148
         ]
        },
        {
         "name": "Pace",
         "type": "bar",
         "uid": "25a8830d-e3a1-4445-9992-586c4964fa3d",
         "x": [
          "Class 42",
          "Class 43",
          "Class 44",
          "Class 45",
          "Class 48",
          "Class 5",
          "Class 51",
          "Class 52",
          "Class 53",
          "Class 54",
          "Class 55",
          "Class 56",
          "Class 57",
          "Class 58",
          "Class 59",
          "Class 6",
          "Class 60",
          "Class 61",
          "Class 62",
          "Class 63",
          "Class 64",
          "Class 7",
          "Class 71",
          "Class 72",
          "Class 73"
         ],
         "y": [
          3.765151515151515,
          4.195652173913044,
          4.260869565217392,
          4.217821782178218,
          3.5,
          4.334763948497854,
          3.575916230366492,
          3.7777777777777777,
          3.7711864406779663,
          3.8080357142857144,
          3.864,
          3.8461538461538463,
          3.25,
          3.675675675675676,
          3.4583333333333335,
          4.129554655870446,
          3.715909090909091,
          3.3707865168539324,
          3.6842105263157894,
          3.77037037037037,
          3.634228187919463,
          3.8439716312056738,
          3.9043062200956937,
          3.789237668161435,
          3.744
         ]
        },
        {
         "name": "Ins. Know",
         "type": "bar",
         "uid": "c6b29564-d628-4bbd-a674-bad5bfc7060f",
         "x": [
          "Class 42",
          "Class 43",
          "Class 44",
          "Class 45",
          "Class 48",
          "Class 5",
          "Class 51",
          "Class 52",
          "Class 53",
          "Class 54",
          "Class 55",
          "Class 56",
          "Class 57",
          "Class 58",
          "Class 59",
          "Class 6",
          "Class 60",
          "Class 61",
          "Class 62",
          "Class 63",
          "Class 64",
          "Class 7",
          "Class 71",
          "Class 72",
          "Class 73"
         ],
         "y": [
          4.537878787878788,
          4.717391304347826,
          4.891304347826087,
          4.712871287128713,
          4.5,
          4.695278969957082,
          4.371727748691099,
          4.511904761904762,
          4.330508474576271,
          4.602678571428571,
          4.688,
          4.403846153846154,
          4.75,
          4.308108108108108,
          4.583333333333333,
          4.668016194331984,
          4.653409090909091,
          4.123595505617978,
          4.6421052631578945,
          4.548148148148148,
          4.560402684563758,
          4.520567375886525,
          4.564593301435407,
          4.493273542600897,
          4.456
         ]
        },
        {
         "name": "Ins. Clarity",
         "type": "bar",
         "uid": "ec14888c-0eba-4bf3-82ff-5579bd567c60",
         "x": [
          "Class 42",
          "Class 43",
          "Class 44",
          "Class 45",
          "Class 48",
          "Class 5",
          "Class 51",
          "Class 52",
          "Class 53",
          "Class 54",
          "Class 55",
          "Class 56",
          "Class 57",
          "Class 58",
          "Class 59",
          "Class 6",
          "Class 60",
          "Class 61",
          "Class 62",
          "Class 63",
          "Class 64",
          "Class 7",
          "Class 71",
          "Class 72",
          "Class 73"
         ],
         "y": [
          3.992424242424242,
          4.3478260869565215,
          4.391304347826087,
          4.396039603960396,
          4.5,
          4.3218884120171674,
          3.722513089005236,
          4.2023809523809526,
          4.02542372881356,
          4.299107142857143,
          4.24,
          4.115384615384615,
          4.5,
          3.9405405405405407,
          4.25,
          4.303643724696356,
          4.267045454545454,
          3.651685393258427,
          4.147368421052631,
          4.133333333333334,
          4.167785234899329,
          4.228368794326241,
          4.301435406698564,
          4.246636771300448,
          4.172
         ]
        },
        {
         "name": "Ins. Engagement",
         "type": "bar",
         "uid": "738c6099-c1b0-421a-92ce-49156b283f17",
         "x": [
          "Class 42",
          "Class 43",
          "Class 44",
          "Class 45",
          "Class 48",
          "Class 5",
          "Class 51",
          "Class 52",
          "Class 53",
          "Class 54",
          "Class 55",
          "Class 56",
          "Class 57",
          "Class 58",
          "Class 59",
          "Class 6",
          "Class 60",
          "Class 61",
          "Class 62",
          "Class 63",
          "Class 64",
          "Class 7",
          "Class 71",
          "Class 72",
          "Class 73"
         ],
         "y": [
          4.2272727272727275,
          4.586956521739131,
          4.793478260869565,
          4.3861386138613865,
          4,
          4.523605150214593,
          4.041884816753926,
          4.198412698412699,
          4.110169491525424,
          4.299107142857143,
          4.464,
          4.144230769230769,
          4.25,
          4.048648648648649,
          4.083333333333333,
          4.384615384615385,
          4.2102272727272725,
          3.7715355805243447,
          4.2,
          4.262962962962963,
          4.25503355704698,
          4.270921985815603,
          4.339712918660287,
          4.2690582959641254,
          4.184
         ]
        }
       ],
       "layout": {
        "showlegend": true,
        "title": {
         "text": "Average Metrics - Class Level"
        },
        "updatemenus": [
         {
          "active": 0,
          "buttons": [
           {
            "args": [
             {
              "visible": [
               true,
               true,
               true,
               true,
               true,
               true
              ]
             },
             {
              "title": "All"
             }
            ],
            "label": "All Metrics",
            "method": "update"
           },
           {
            "args": [
             {
              "visible": [
               true,
               false,
               false,
               false,
               false,
               false
              ]
             },
             {
              "title": "Avg Pace"
             }
            ],
            "label": "Mastery",
            "method": "update"
           },
           {
            "args": [
             {
              "visible": [
               false,
               true,
               false,
               false,
               false,
               false
              ]
             },
             {
              "title": "Avg Support"
             }
            ],
            "label": "Support",
            "method": "update"
           },
           {
            "args": [
             {
              "visible": [
               false,
               false,
               true,
               false,
               false,
               false
              ]
             },
             {
              "title": "Avg Support"
             }
            ],
            "label": "Pace",
            "method": "update"
           },
           {
            "args": [
             {
              "visible": [
               false,
               false,
               false,
               true,
               false,
               false
              ]
             },
             {
              "title": "Ins Knowledge"
             }
            ],
            "label": "Instructor Knowledge",
            "method": "update"
           },
           {
            "args": [
             {
              "visible": [
               false,
               true,
               false,
               false,
               false,
               false
              ]
             },
             {
              "title": "Instructor Clarity"
             }
            ],
            "label": "Instrutor Clarity",
            "method": "update"
           },
           {
            "args": [
             {
              "visible": [
               false,
               true,
               false,
               false,
               false,
               false
              ]
             },
             {
              "title": "Instructor Engagement"
             }
            ],
            "label": "Instrutor Engagement",
            "method": "update"
           }
          ]
         }
        ],
        "xaxis": {
         "title": {
          "text": "Classes"
         }
        },
        "yaxis": {
         "title": {
          "text": "Avg Score"
         }
        }
       }
      },
      "text/html": [
       "<div>\n",
       "        \n",
       "        \n",
       "            <div id=\"5f156b23-3987-4769-bd16-c6585bd46b2e\" class=\"plotly-graph-div\" style=\"height:525px; width:100%;\"></div>\n",
       "            <script type=\"text/javascript\">\n",
       "                require([\"plotly\"], function(Plotly) {\n",
       "                    window.PLOTLYENV=window.PLOTLYENV || {};\n",
       "                    window.PLOTLYENV.BASE_URL='https://plot.ly';\n",
       "                    \n",
       "                if (document.getElementById(\"5f156b23-3987-4769-bd16-c6585bd46b2e\")) {\n",
       "                    Plotly.newPlot(\n",
       "                        '5f156b23-3987-4769-bd16-c6585bd46b2e',\n",
       "                        [{\"name\": \"Mastery\", \"type\": \"bar\", \"uid\": \"e525baa9-685d-44b0-9145-7d9bbec62bdf\", \"x\": [\"Class 42\", \"Class 43\", \"Class 44\", \"Class 45\", \"Class 48\", \"Class 5\", \"Class 51\", \"Class 52\", \"Class 53\", \"Class 54\", \"Class 55\", \"Class 56\", \"Class 57\", \"Class 58\", \"Class 59\", \"Class 6\", \"Class 60\", \"Class 61\", \"Class 62\", \"Class 63\", \"Class 64\", \"Class 7\", \"Class 71\", \"Class 72\", \"Class 73\"], \"y\": [3.356060606060606, 3.652173913043478, 3.489130434782609, 3.4356435643564356, 4.0, 3.6824034334763946, 3.167539267015707, 3.376984126984127, 3.26271186440678, 3.549107142857143, 3.416, 3.389423076923077, 3.25, 3.2486486486486488, 3.1666666666666665, 3.57085020242915, 3.284090909090909, 2.9737827715355807, 3.2, 3.2037037037037037, 3.204697986577181, 3.4936170212765956, 3.430622009569378, 3.3497757847533634, 3.288]}, {\"name\": \"Support\", \"type\": \"bar\", \"uid\": \"4c6d4961-6dd0-46b2-a2f9-39b80580d347\", \"x\": [\"Class 42\", \"Class 43\", \"Class 44\", \"Class 45\", \"Class 48\", \"Class 5\", \"Class 51\", \"Class 52\", \"Class 53\", \"Class 54\", \"Class 55\", \"Class 56\", \"Class 57\", \"Class 58\", \"Class 59\", \"Class 6\", \"Class 60\", \"Class 61\", \"Class 62\", \"Class 63\", \"Class 64\", \"Class 7\", \"Class 71\", \"Class 72\", \"Class 73\"], \"y\": [4.03030303030303, 4.717391304347826, 4.6521739130434785, 4.396039603960396, 4.5, 4.416309012875536, 3.905759162303665, 4.234126984126984, 4.139830508474576, 4.299107142857143, 4.152, 4.091346153846154, 4.25, 3.772972972972973, 3.75, 4.364372469635628, 4.1875, 3.8127340823970037, 4.126315789473685, 4.125925925925926, 4.151006711409396, 4.278014184397163, 4.29665071770335, 4.179372197309417, 4.148]}, {\"name\": \"Pace\", \"type\": \"bar\", \"uid\": \"25a8830d-e3a1-4445-9992-586c4964fa3d\", \"x\": [\"Class 42\", \"Class 43\", \"Class 44\", \"Class 45\", \"Class 48\", \"Class 5\", \"Class 51\", \"Class 52\", \"Class 53\", \"Class 54\", \"Class 55\", \"Class 56\", \"Class 57\", \"Class 58\", \"Class 59\", \"Class 6\", \"Class 60\", \"Class 61\", \"Class 62\", \"Class 63\", \"Class 64\", \"Class 7\", \"Class 71\", \"Class 72\", \"Class 73\"], \"y\": [3.765151515151515, 4.195652173913044, 4.260869565217392, 4.217821782178218, 3.5, 4.334763948497854, 3.575916230366492, 3.7777777777777777, 3.7711864406779663, 3.8080357142857144, 3.864, 3.8461538461538463, 3.25, 3.675675675675676, 3.4583333333333335, 4.129554655870446, 3.715909090909091, 3.3707865168539324, 3.6842105263157894, 3.77037037037037, 3.634228187919463, 3.8439716312056738, 3.9043062200956937, 3.789237668161435, 3.744]}, {\"name\": \"Ins. Know\", \"type\": \"bar\", \"uid\": \"c6b29564-d628-4bbd-a674-bad5bfc7060f\", \"x\": [\"Class 42\", \"Class 43\", \"Class 44\", \"Class 45\", \"Class 48\", \"Class 5\", \"Class 51\", \"Class 52\", \"Class 53\", \"Class 54\", \"Class 55\", \"Class 56\", \"Class 57\", \"Class 58\", \"Class 59\", \"Class 6\", \"Class 60\", \"Class 61\", \"Class 62\", \"Class 63\", \"Class 64\", \"Class 7\", \"Class 71\", \"Class 72\", \"Class 73\"], \"y\": [4.537878787878788, 4.717391304347826, 4.891304347826087, 4.712871287128713, 4.5, 4.695278969957082, 4.371727748691099, 4.511904761904762, 4.330508474576271, 4.602678571428571, 4.688, 4.403846153846154, 4.75, 4.308108108108108, 4.583333333333333, 4.668016194331984, 4.653409090909091, 4.123595505617978, 4.6421052631578945, 4.548148148148148, 4.560402684563758, 4.520567375886525, 4.564593301435407, 4.493273542600897, 4.456]}, {\"name\": \"Ins. Clarity\", \"type\": \"bar\", \"uid\": \"ec14888c-0eba-4bf3-82ff-5579bd567c60\", \"x\": [\"Class 42\", \"Class 43\", \"Class 44\", \"Class 45\", \"Class 48\", \"Class 5\", \"Class 51\", \"Class 52\", \"Class 53\", \"Class 54\", \"Class 55\", \"Class 56\", \"Class 57\", \"Class 58\", \"Class 59\", \"Class 6\", \"Class 60\", \"Class 61\", \"Class 62\", \"Class 63\", \"Class 64\", \"Class 7\", \"Class 71\", \"Class 72\", \"Class 73\"], \"y\": [3.992424242424242, 4.3478260869565215, 4.391304347826087, 4.396039603960396, 4.5, 4.3218884120171674, 3.722513089005236, 4.2023809523809526, 4.02542372881356, 4.299107142857143, 4.24, 4.115384615384615, 4.5, 3.9405405405405407, 4.25, 4.303643724696356, 4.267045454545454, 3.651685393258427, 4.147368421052631, 4.133333333333334, 4.167785234899329, 4.228368794326241, 4.301435406698564, 4.246636771300448, 4.172]}, {\"name\": \"Ins. Engagement\", \"type\": \"bar\", \"uid\": \"738c6099-c1b0-421a-92ce-49156b283f17\", \"x\": [\"Class 42\", \"Class 43\", \"Class 44\", \"Class 45\", \"Class 48\", \"Class 5\", \"Class 51\", \"Class 52\", \"Class 53\", \"Class 54\", \"Class 55\", \"Class 56\", \"Class 57\", \"Class 58\", \"Class 59\", \"Class 6\", \"Class 60\", \"Class 61\", \"Class 62\", \"Class 63\", \"Class 64\", \"Class 7\", \"Class 71\", \"Class 72\", \"Class 73\"], \"y\": [4.2272727272727275, 4.586956521739131, 4.793478260869565, 4.3861386138613865, 4.0, 4.523605150214593, 4.041884816753926, 4.198412698412699, 4.110169491525424, 4.299107142857143, 4.464, 4.144230769230769, 4.25, 4.048648648648649, 4.083333333333333, 4.384615384615385, 4.2102272727272725, 3.7715355805243447, 4.2, 4.262962962962963, 4.25503355704698, 4.270921985815603, 4.339712918660287, 4.2690582959641254, 4.184]}],\n",
       "                        {\"showlegend\": true, \"title\": {\"text\": \"Average Metrics - Class Level\"}, \"updatemenus\": [{\"active\": 0, \"buttons\": [{\"args\": [{\"visible\": [true, true, true, true, true, true]}, {\"title\": \"All\"}], \"label\": \"All Metrics\", \"method\": \"update\"}, {\"args\": [{\"visible\": [true, false, false, false, false, false]}, {\"title\": \"Avg Pace\"}], \"label\": \"Mastery\", \"method\": \"update\"}, {\"args\": [{\"visible\": [false, true, false, false, false, false]}, {\"title\": \"Avg Support\"}], \"label\": \"Support\", \"method\": \"update\"}, {\"args\": [{\"visible\": [false, false, true, false, false, false]}, {\"title\": \"Avg Support\"}], \"label\": \"Pace\", \"method\": \"update\"}, {\"args\": [{\"visible\": [false, false, false, true, false, false]}, {\"title\": \"Ins Knowledge\"}], \"label\": \"Instructor Knowledge\", \"method\": \"update\"}, {\"args\": [{\"visible\": [false, true, false, false, false, false]}, {\"title\": \"Instructor Clarity\"}], \"label\": \"Instrutor Clarity\", \"method\": \"update\"}, {\"args\": [{\"visible\": [false, true, false, false, false, false]}, {\"title\": \"Instructor Engagement\"}], \"label\": \"Instrutor Engagement\", \"method\": \"update\"}]}], \"xaxis\": {\"title\": {\"text\": \"Classes\"}}, \"yaxis\": {\"title\": {\"text\": \"Avg Score\"}}},\n",
       "                        {\"showLink\": false, \"linkText\": \"Export to plot.ly\", \"plotlyServerURL\": \"https://plot.ly\", \"responsive\": true}\n",
       "                    ).then(function(){\n",
       "                            \n",
       "var gd = document.getElementById('5f156b23-3987-4769-bd16-c6585bd46b2e');\n",
       "var x = new MutationObserver(function (mutations, observer) {{\n",
       "        var display = window.getComputedStyle(gd).display;\n",
       "        if (!display || display === 'none') {{\n",
       "            console.log([gd, 'removed!']);\n",
       "            Plotly.purge(gd);\n",
       "            observer.disconnect();\n",
       "        }}\n",
       "}});\n",
       "\n",
       "// Listen for the removal of the full notebook cells\n",
       "var notebookContainer = gd.closest('#notebook-container');\n",
       "if (notebookContainer) {{\n",
       "    x.observe(notebookContainer, {childList: true});\n",
       "}}\n",
       "\n",
       "// Listen for the clearing of the current output cell\n",
       "var outputEl = gd.closest('.output');\n",
       "if (outputEl) {{\n",
       "    x.observe(outputEl, {childList: true});\n",
       "}}\n",
       "\n",
       "                        })\n",
       "                };\n",
       "                });\n",
       "            </script>\n",
       "        </div>"
      ]
     },
     "metadata": {},
     "output_type": "display_data"
    }
   ],
   "source": [
    "third_group = class_pivot_table.iloc[50:75]\n",
    "\n",
    "# Set Layout\n",
    "layout = dict(title=\"Average Metrics - Class Level\",\n",
    "              showlegend=True,\n",
    "              xaxis=dict(title=\"Classes\"),\n",
    "              yaxis=dict(title=\"Avg Score\"),\n",
    "              updatemenus=updatemenus)\n",
    "\n",
    "# Store data and layout\n",
    "fig = dict(data=create_traces(third_group), layout=layout)\n",
    "\n",
    "# Plot bar graph\n",
    "plotly.offline.iplot(fig, filename='cmocean-picker-one-dropdown')"
   ]
  },
  {
   "cell_type": "code",
   "execution_count": 11,
   "metadata": {},
   "outputs": [
    {
     "data": {
      "application/vnd.plotly.v1+json": {
       "config": {
        "linkText": "Export to plot.ly",
        "plotlyServerURL": "https://plot.ly",
        "showLink": false
       },
       "data": [
        {
         "name": "Mastery",
         "type": "bar",
         "uid": "27f85bb1-5838-4533-b76f-c322dc5b9d5f",
         "x": [
          "Class 74",
          "Class 75",
          "Class 76",
          "Class 77",
          "Class 78",
          "Class 8",
          "Class 82",
          "Class 83",
          "Class 9",
          "Class 90",
          "Class 91",
          "Class 92",
          "Class 93",
          "Class 94",
          "Class 95"
         ],
         "y": [
          3.2844444444444445,
          3.2049689440993787,
          3.278688524590164,
          3.2797927461139897,
          3.098901098901099,
          3.3810623556581985,
          3.397923875432526,
          3.4178571428571427,
          3.3956521739130436,
          3.267857142857143,
          3.3863636363636362,
          3.325,
          3.3664383561643834,
          3.159851301115242,
          3.089795918367347
         ]
        },
        {
         "name": "Support",
         "type": "bar",
         "uid": "eb44e421-de7c-426b-a695-98d3512e45b5",
         "x": [
          "Class 74",
          "Class 75",
          "Class 76",
          "Class 77",
          "Class 78",
          "Class 8",
          "Class 82",
          "Class 83",
          "Class 9",
          "Class 90",
          "Class 91",
          "Class 92",
          "Class 93",
          "Class 94",
          "Class 95"
         ],
         "y": [
          4.1066666666666665,
          4.086956521739131,
          4.024590163934426,
          4.134715025906735,
          4.093406593406593,
          4.200923787528868,
          4.131487889273356,
          4.225,
          4.3130434782608695,
          4.174107142857143,
          4.081818181818182,
          4.114285714285714,
          4.208904109589041,
          4.211895910780669,
          4.089795918367347
         ]
        },
        {
         "name": "Pace",
         "type": "bar",
         "uid": "4602f4b0-6cca-4c5b-a26f-277b9943dd1e",
         "x": [
          "Class 74",
          "Class 75",
          "Class 76",
          "Class 77",
          "Class 78",
          "Class 8",
          "Class 82",
          "Class 83",
          "Class 9",
          "Class 90",
          "Class 91",
          "Class 92",
          "Class 93",
          "Class 94",
          "Class 95"
         ],
         "y": [
          3.72,
          3.5838509316770186,
          3.4918032786885247,
          3.7357512953367875,
          3.6648351648351647,
          3.7505773672055427,
          3.737024221453287,
          3.7928571428571427,
          3.7130434782608694,
          3.5267857142857144,
          3.6454545454545455,
          3.767857142857143,
          3.845890410958904,
          3.866171003717472,
          3.7224489795918365
         ]
        },
        {
         "name": "Ins. Know",
         "type": "bar",
         "uid": "9efa08ce-1416-4fbd-b780-d0cc406a007e",
         "x": [
          "Class 74",
          "Class 75",
          "Class 76",
          "Class 77",
          "Class 78",
          "Class 8",
          "Class 82",
          "Class 83",
          "Class 9",
          "Class 90",
          "Class 91",
          "Class 92",
          "Class 93",
          "Class 94",
          "Class 95"
         ],
         "y": [
          4.453333333333333,
          4.590062111801243,
          4.549180327868853,
          4.518134715025907,
          4.56043956043956,
          4.484988452655889,
          4.477508650519031,
          4.564285714285714,
          4.630434782608695,
          4.660714285714286,
          4.5,
          4.392857142857143,
          4.534246575342466,
          4.4907063197026025,
          4.457142857142857
         ]
        },
        {
         "name": "Ins. Clarity",
         "type": "bar",
         "uid": "bfa76b1b-9125-4859-842d-5846474fce6b",
         "x": [
          "Class 74",
          "Class 75",
          "Class 76",
          "Class 77",
          "Class 78",
          "Class 8",
          "Class 82",
          "Class 83",
          "Class 9",
          "Class 90",
          "Class 91",
          "Class 92",
          "Class 93",
          "Class 94",
          "Class 95"
         ],
         "y": [
          4.168888888888889,
          4.192546583850931,
          4,
          4.124352331606218,
          4.065934065934066,
          4.124711316397229,
          4.145328719723183,
          4.210714285714285,
          4.352173913043479,
          4.209821428571429,
          4.181818181818182,
          4.042857142857143,
          4.181506849315069,
          4.159851301115242,
          4.171428571428572
         ]
        },
        {
         "name": "Ins. Engagement",
         "type": "bar",
         "uid": "f8ff8457-e6ca-48c0-a5b2-280559a7e414",
         "x": [
          "Class 74",
          "Class 75",
          "Class 76",
          "Class 77",
          "Class 78",
          "Class 8",
          "Class 82",
          "Class 83",
          "Class 9",
          "Class 90",
          "Class 91",
          "Class 92",
          "Class 93",
          "Class 94",
          "Class 95"
         ],
         "y": [
          4.1466666666666665,
          4.217391304347826,
          4.122950819672131,
          4.170984455958549,
          4.137362637362638,
          4.173210161662817,
          4.224913494809688,
          4.232142857142857,
          4.413043478260869,
          4.321428571428571,
          4.245454545454545,
          4.085714285714285,
          4.243150684931507,
          4.156133828996283,
          4.163265306122449
         ]
        }
       ],
       "layout": {
        "showlegend": true,
        "title": {
         "text": "Average Metrics - Class Level"
        },
        "updatemenus": [
         {
          "active": 0,
          "buttons": [
           {
            "args": [
             {
              "visible": [
               true,
               true,
               true,
               true,
               true,
               true
              ]
             },
             {
              "title": "All"
             }
            ],
            "label": "All Metrics",
            "method": "update"
           },
           {
            "args": [
             {
              "visible": [
               true,
               false,
               false,
               false,
               false,
               false
              ]
             },
             {
              "title": "Avg Pace"
             }
            ],
            "label": "Mastery",
            "method": "update"
           },
           {
            "args": [
             {
              "visible": [
               false,
               true,
               false,
               false,
               false,
               false
              ]
             },
             {
              "title": "Avg Support"
             }
            ],
            "label": "Support",
            "method": "update"
           },
           {
            "args": [
             {
              "visible": [
               false,
               false,
               true,
               false,
               false,
               false
              ]
             },
             {
              "title": "Avg Support"
             }
            ],
            "label": "Pace",
            "method": "update"
           },
           {
            "args": [
             {
              "visible": [
               false,
               false,
               false,
               true,
               false,
               false
              ]
             },
             {
              "title": "Ins Knowledge"
             }
            ],
            "label": "Instructor Knowledge",
            "method": "update"
           },
           {
            "args": [
             {
              "visible": [
               false,
               true,
               false,
               false,
               false,
               false
              ]
             },
             {
              "title": "Instructor Clarity"
             }
            ],
            "label": "Instrutor Clarity",
            "method": "update"
           },
           {
            "args": [
             {
              "visible": [
               false,
               true,
               false,
               false,
               false,
               false
              ]
             },
             {
              "title": "Instructor Engagement"
             }
            ],
            "label": "Instrutor Engagement",
            "method": "update"
           }
          ]
         }
        ],
        "xaxis": {
         "title": {
          "text": "Classes"
         }
        },
        "yaxis": {
         "title": {
          "text": "Avg Score"
         }
        }
       }
      },
      "text/html": [
       "<div>\n",
       "        \n",
       "        \n",
       "            <div id=\"f43864f4-cabe-4cf4-add6-1605db6137da\" class=\"plotly-graph-div\" style=\"height:525px; width:100%;\"></div>\n",
       "            <script type=\"text/javascript\">\n",
       "                require([\"plotly\"], function(Plotly) {\n",
       "                    window.PLOTLYENV=window.PLOTLYENV || {};\n",
       "                    window.PLOTLYENV.BASE_URL='https://plot.ly';\n",
       "                    \n",
       "                if (document.getElementById(\"f43864f4-cabe-4cf4-add6-1605db6137da\")) {\n",
       "                    Plotly.newPlot(\n",
       "                        'f43864f4-cabe-4cf4-add6-1605db6137da',\n",
       "                        [{\"name\": \"Mastery\", \"type\": \"bar\", \"uid\": \"27f85bb1-5838-4533-b76f-c322dc5b9d5f\", \"x\": [\"Class 74\", \"Class 75\", \"Class 76\", \"Class 77\", \"Class 78\", \"Class 8\", \"Class 82\", \"Class 83\", \"Class 9\", \"Class 90\", \"Class 91\", \"Class 92\", \"Class 93\", \"Class 94\", \"Class 95\"], \"y\": [3.2844444444444445, 3.2049689440993787, 3.278688524590164, 3.2797927461139897, 3.098901098901099, 3.3810623556581985, 3.397923875432526, 3.4178571428571427, 3.3956521739130436, 3.267857142857143, 3.3863636363636362, 3.325, 3.3664383561643834, 3.159851301115242, 3.089795918367347]}, {\"name\": \"Support\", \"type\": \"bar\", \"uid\": \"eb44e421-de7c-426b-a695-98d3512e45b5\", \"x\": [\"Class 74\", \"Class 75\", \"Class 76\", \"Class 77\", \"Class 78\", \"Class 8\", \"Class 82\", \"Class 83\", \"Class 9\", \"Class 90\", \"Class 91\", \"Class 92\", \"Class 93\", \"Class 94\", \"Class 95\"], \"y\": [4.1066666666666665, 4.086956521739131, 4.024590163934426, 4.134715025906735, 4.093406593406593, 4.200923787528868, 4.131487889273356, 4.225, 4.3130434782608695, 4.174107142857143, 4.081818181818182, 4.114285714285714, 4.208904109589041, 4.211895910780669, 4.089795918367347]}, {\"name\": \"Pace\", \"type\": \"bar\", \"uid\": \"4602f4b0-6cca-4c5b-a26f-277b9943dd1e\", \"x\": [\"Class 74\", \"Class 75\", \"Class 76\", \"Class 77\", \"Class 78\", \"Class 8\", \"Class 82\", \"Class 83\", \"Class 9\", \"Class 90\", \"Class 91\", \"Class 92\", \"Class 93\", \"Class 94\", \"Class 95\"], \"y\": [3.72, 3.5838509316770186, 3.4918032786885247, 3.7357512953367875, 3.6648351648351647, 3.7505773672055427, 3.737024221453287, 3.7928571428571427, 3.7130434782608694, 3.5267857142857144, 3.6454545454545455, 3.767857142857143, 3.845890410958904, 3.866171003717472, 3.7224489795918365]}, {\"name\": \"Ins. Know\", \"type\": \"bar\", \"uid\": \"9efa08ce-1416-4fbd-b780-d0cc406a007e\", \"x\": [\"Class 74\", \"Class 75\", \"Class 76\", \"Class 77\", \"Class 78\", \"Class 8\", \"Class 82\", \"Class 83\", \"Class 9\", \"Class 90\", \"Class 91\", \"Class 92\", \"Class 93\", \"Class 94\", \"Class 95\"], \"y\": [4.453333333333333, 4.590062111801243, 4.549180327868853, 4.518134715025907, 4.56043956043956, 4.484988452655889, 4.477508650519031, 4.564285714285714, 4.630434782608695, 4.660714285714286, 4.5, 4.392857142857143, 4.534246575342466, 4.4907063197026025, 4.457142857142857]}, {\"name\": \"Ins. Clarity\", \"type\": \"bar\", \"uid\": \"bfa76b1b-9125-4859-842d-5846474fce6b\", \"x\": [\"Class 74\", \"Class 75\", \"Class 76\", \"Class 77\", \"Class 78\", \"Class 8\", \"Class 82\", \"Class 83\", \"Class 9\", \"Class 90\", \"Class 91\", \"Class 92\", \"Class 93\", \"Class 94\", \"Class 95\"], \"y\": [4.168888888888889, 4.192546583850931, 4.0, 4.124352331606218, 4.065934065934066, 4.124711316397229, 4.145328719723183, 4.210714285714285, 4.352173913043479, 4.209821428571429, 4.181818181818182, 4.042857142857143, 4.181506849315069, 4.159851301115242, 4.171428571428572]}, {\"name\": \"Ins. Engagement\", \"type\": \"bar\", \"uid\": \"f8ff8457-e6ca-48c0-a5b2-280559a7e414\", \"x\": [\"Class 74\", \"Class 75\", \"Class 76\", \"Class 77\", \"Class 78\", \"Class 8\", \"Class 82\", \"Class 83\", \"Class 9\", \"Class 90\", \"Class 91\", \"Class 92\", \"Class 93\", \"Class 94\", \"Class 95\"], \"y\": [4.1466666666666665, 4.217391304347826, 4.122950819672131, 4.170984455958549, 4.137362637362638, 4.173210161662817, 4.224913494809688, 4.232142857142857, 4.413043478260869, 4.321428571428571, 4.245454545454545, 4.085714285714285, 4.243150684931507, 4.156133828996283, 4.163265306122449]}],\n",
       "                        {\"showlegend\": true, \"title\": {\"text\": \"Average Metrics - Class Level\"}, \"updatemenus\": [{\"active\": 0, \"buttons\": [{\"args\": [{\"visible\": [true, true, true, true, true, true]}, {\"title\": \"All\"}], \"label\": \"All Metrics\", \"method\": \"update\"}, {\"args\": [{\"visible\": [true, false, false, false, false, false]}, {\"title\": \"Avg Pace\"}], \"label\": \"Mastery\", \"method\": \"update\"}, {\"args\": [{\"visible\": [false, true, false, false, false, false]}, {\"title\": \"Avg Support\"}], \"label\": \"Support\", \"method\": \"update\"}, {\"args\": [{\"visible\": [false, false, true, false, false, false]}, {\"title\": \"Avg Support\"}], \"label\": \"Pace\", \"method\": \"update\"}, {\"args\": [{\"visible\": [false, false, false, true, false, false]}, {\"title\": \"Ins Knowledge\"}], \"label\": \"Instructor Knowledge\", \"method\": \"update\"}, {\"args\": [{\"visible\": [false, true, false, false, false, false]}, {\"title\": \"Instructor Clarity\"}], \"label\": \"Instrutor Clarity\", \"method\": \"update\"}, {\"args\": [{\"visible\": [false, true, false, false, false, false]}, {\"title\": \"Instructor Engagement\"}], \"label\": \"Instrutor Engagement\", \"method\": \"update\"}]}], \"xaxis\": {\"title\": {\"text\": \"Classes\"}}, \"yaxis\": {\"title\": {\"text\": \"Avg Score\"}}},\n",
       "                        {\"showLink\": false, \"linkText\": \"Export to plot.ly\", \"plotlyServerURL\": \"https://plot.ly\", \"responsive\": true}\n",
       "                    ).then(function(){\n",
       "                            \n",
       "var gd = document.getElementById('f43864f4-cabe-4cf4-add6-1605db6137da');\n",
       "var x = new MutationObserver(function (mutations, observer) {{\n",
       "        var display = window.getComputedStyle(gd).display;\n",
       "        if (!display || display === 'none') {{\n",
       "            console.log([gd, 'removed!']);\n",
       "            Plotly.purge(gd);\n",
       "            observer.disconnect();\n",
       "        }}\n",
       "}});\n",
       "\n",
       "// Listen for the removal of the full notebook cells\n",
       "var notebookContainer = gd.closest('#notebook-container');\n",
       "if (notebookContainer) {{\n",
       "    x.observe(notebookContainer, {childList: true});\n",
       "}}\n",
       "\n",
       "// Listen for the clearing of the current output cell\n",
       "var outputEl = gd.closest('.output');\n",
       "if (outputEl) {{\n",
       "    x.observe(outputEl, {childList: true});\n",
       "}}\n",
       "\n",
       "                        })\n",
       "                };\n",
       "                });\n",
       "            </script>\n",
       "        </div>"
      ]
     },
     "metadata": {},
     "output_type": "display_data"
    }
   ],
   "source": [
    "last_group = class_pivot_table.iloc[75:90]\n",
    "\n",
    "# Set Layout\n",
    "layout = dict(title=\"Average Metrics - Class Level\",\n",
    "              showlegend=True,\n",
    "              xaxis=dict(title=\"Classes\"),\n",
    "              yaxis=dict(title=\"Avg Score\"),\n",
    "              updatemenus=updatemenus)\n",
    "\n",
    "# Store data and layout\n",
    "fig = dict(data=create_traces(last_group), layout=layout)\n",
    "\n",
    "# Plot bar graph\n",
    "plotly.offline.iplot(fig, filename='cmocean-picker-one-dropdown')"
   ]
  },
  {
   "cell_type": "markdown",
   "metadata": {},
   "source": [
    "### University Dashboard"
   ]
  },
  {
   "cell_type": "code",
   "execution_count": 12,
   "metadata": {},
   "outputs": [
    {
     "data": {
      "application/vnd.plotly.v1+json": {
       "config": {
        "linkText": "Export to plot.ly",
        "plotlyServerURL": "https://plot.ly",
        "showLink": false
       },
       "data": [
        {
         "name": "Mastery",
         "type": "bar",
         "uid": "9c796620-cf15-4d5b-b4b3-312ffae2ea4f",
         "x": [
          "University 1",
          "University 10",
          "University 11",
          "University 12",
          "University 13",
          "University 14",
          "University 19",
          "University 2",
          "University 21",
          "University 3",
          "University 4",
          "University 5",
          "University 6",
          "University 7",
          "University 8",
          "University 9"
         ],
         "y": [
          3.270218839200761,
          3.36979969183359,
          3.4110091743119266,
          3.4586994727592266,
          3.388888888888889,
          3.488038277511962,
          3.38996138996139,
          3.3375984251968505,
          3.6607142857142856,
          3.383658969804618,
          3.2723880597014925,
          3.298708288482239,
          3.294496068620443,
          3.1744444444444446,
          3.9226190476190474,
          3.3259423503325944
         ]
        },
        {
         "name": "Support",
         "type": "bar",
         "uid": "ae5b1d5d-6c8a-4b12-9778-2f1fcae62297",
         "x": [
          "University 1",
          "University 10",
          "University 11",
          "University 12",
          "University 13",
          "University 14",
          "University 19",
          "University 2",
          "University 21",
          "University 3",
          "University 4",
          "University 5",
          "University 6",
          "University 7",
          "University 8",
          "University 9"
         ],
         "y": [
          4.156993339676498,
          4.2357473035439135,
          4.1669724770642205,
          4.161687170474517,
          4.236111111111111,
          4.215311004784689,
          4.2084942084942085,
          4.147637795275591,
          4.614285714285714,
          4.162522202486678,
          4.130182421227198,
          4.1576964477933265,
          4.133666904932094,
          4.137777777777778,
          4.5476190476190474,
          4.126385809312638
         ]
        },
        {
         "name": "Pace",
         "type": "bar",
         "uid": "6d3ef49d-d527-4bac-9403-634fdc09fcb4",
         "x": [
          "University 1",
          "University 10",
          "University 11",
          "University 12",
          "University 13",
          "University 14",
          "University 19",
          "University 2",
          "University 21",
          "University 3",
          "University 4",
          "University 5",
          "University 6",
          "University 7",
          "University 8",
          "University 9"
         ],
         "y": [
          3.737392959086584,
          3.8012326656394455,
          3.776146788990826,
          3.822495606326889,
          3.8449074074074074,
          3.971291866028708,
          3.694980694980695,
          3.7106299212598426,
          4.253571428571429,
          3.7211367673179394,
          3.730514096185738,
          3.7432723358449946,
          3.7133666904932094,
          3.787777777777778,
          4.321428571428571,
          3.762749445676275
         ]
        },
        {
         "name": "Ins. Know",
         "type": "bar",
         "uid": "f99878f1-dfb1-4761-83f0-e7953422febd",
         "x": [
          "University 1",
          "University 10",
          "University 11",
          "University 12",
          "University 13",
          "University 14",
          "University 19",
          "University 2",
          "University 21",
          "University 3",
          "University 4",
          "University 5",
          "University 6",
          "University 7",
          "University 8",
          "University 9"
         ],
         "y": [
          4.53092293054234,
          4.522342064714946,
          4.522935779816514,
          4.525483304042179,
          4.527777777777778,
          4.6650717703349285,
          4.420849420849421,
          4.515748031496063,
          4.85,
          4.50044404973357,
          4.522802653399668,
          4.525834230355221,
          4.493209435310936,
          4.47,
          4.738095238095238,
          4.463414634146342
         ]
        },
        {
         "name": "Ins. Clarity",
         "type": "bar",
         "uid": "5ad26ddc-f0b6-47ca-9de3-5c1485d2b1d8",
         "x": [
          "University 1",
          "University 10",
          "University 11",
          "University 12",
          "University 13",
          "University 14",
          "University 19",
          "University 2",
          "University 21",
          "University 3",
          "University 4",
          "University 5",
          "University 6",
          "University 7",
          "University 8",
          "University 9"
         ],
         "y": [
          4.156041864890581,
          4.181818181818182,
          4.181651376146789,
          4.195079086115993,
          4.273148148148148,
          4.291866028708134,
          4.057915057915058,
          4.149606299212598,
          4.457142857142857,
          4.1700710479573715,
          4.172470978441128,
          4.164155005382131,
          4.115082201572552,
          4.161111111111111,
          4.601190476190476,
          4.155210643015521
         ]
        },
        {
         "name": "Ins. Engagement",
         "type": "bar",
         "uid": "4792ace1-13b8-47f9-a72f-c8f7454ab401",
         "x": [
          "University 1",
          "University 10",
          "University 11",
          "University 12",
          "University 13",
          "University 14",
          "University 19",
          "University 2",
          "University 21",
          "University 3",
          "University 4",
          "University 5",
          "University 6",
          "University 7",
          "University 8",
          "University 9"
         ],
         "y": [
          4.223596574690771,
          4.200308166409862,
          4.223853211009175,
          4.268892794376098,
          4.3032407407407405,
          4.430622009569378,
          4.123552123552123,
          4.21751968503937,
          4.725,
          4.197158081705151,
          4.237976782752902,
          4.208826695371367,
          4.154395997140815,
          4.183333333333334,
          4.642857142857143,
          4.177383592017739
         ]
        }
       ],
       "layout": {
        "showlegend": true,
        "title": {
         "text": "Average Metrics - University Level"
        },
        "updatemenus": [
         {
          "active": 0,
          "buttons": [
           {
            "args": [
             {
              "visible": [
               true,
               true,
               true,
               true,
               true,
               true
              ]
             },
             {
              "title": "All"
             }
            ],
            "label": "All Metrics",
            "method": "update"
           },
           {
            "args": [
             {
              "visible": [
               true,
               false,
               false,
               false,
               false,
               false
              ]
             },
             {
              "title": "Avg Pace"
             }
            ],
            "label": "Mastery",
            "method": "update"
           },
           {
            "args": [
             {
              "visible": [
               false,
               true,
               false,
               false,
               false,
               false
              ]
             },
             {
              "title": "Avg Support"
             }
            ],
            "label": "Support",
            "method": "update"
           },
           {
            "args": [
             {
              "visible": [
               false,
               false,
               true,
               false,
               false,
               false
              ]
             },
             {
              "title": "Avg Support"
             }
            ],
            "label": "Pace",
            "method": "update"
           },
           {
            "args": [
             {
              "visible": [
               false,
               false,
               false,
               true,
               false,
               false
              ]
             },
             {
              "title": "Ins Knowledge"
             }
            ],
            "label": "Instructor Knowledge",
            "method": "update"
           },
           {
            "args": [
             {
              "visible": [
               false,
               true,
               false,
               false,
               false,
               false
              ]
             },
             {
              "title": "Instructor Clarity"
             }
            ],
            "label": "Instrutor Clarity",
            "method": "update"
           },
           {
            "args": [
             {
              "visible": [
               false,
               true,
               false,
               false,
               false,
               false
              ]
             },
             {
              "title": "Instructor Engagement"
             }
            ],
            "label": "Instrutor Engagement",
            "method": "update"
           }
          ]
         }
        ],
        "xaxis": {
         "title": {
          "text": "Classes"
         }
        },
        "yaxis": {
         "title": {
          "text": "Avg Score"
         }
        }
       }
      },
      "text/html": [
       "<div>\n",
       "        \n",
       "        \n",
       "            <div id=\"85e3a97b-754f-43e9-baee-9692c8eb9059\" class=\"plotly-graph-div\" style=\"height:525px; width:100%;\"></div>\n",
       "            <script type=\"text/javascript\">\n",
       "                require([\"plotly\"], function(Plotly) {\n",
       "                    window.PLOTLYENV=window.PLOTLYENV || {};\n",
       "                    window.PLOTLYENV.BASE_URL='https://plot.ly';\n",
       "                    \n",
       "                if (document.getElementById(\"85e3a97b-754f-43e9-baee-9692c8eb9059\")) {\n",
       "                    Plotly.newPlot(\n",
       "                        '85e3a97b-754f-43e9-baee-9692c8eb9059',\n",
       "                        [{\"name\": \"Mastery\", \"type\": \"bar\", \"uid\": \"9c796620-cf15-4d5b-b4b3-312ffae2ea4f\", \"x\": [\"University 1\", \"University 10\", \"University 11\", \"University 12\", \"University 13\", \"University 14\", \"University 19\", \"University 2\", \"University 21\", \"University 3\", \"University 4\", \"University 5\", \"University 6\", \"University 7\", \"University 8\", \"University 9\"], \"y\": [3.270218839200761, 3.36979969183359, 3.4110091743119266, 3.4586994727592266, 3.388888888888889, 3.488038277511962, 3.38996138996139, 3.3375984251968505, 3.6607142857142856, 3.383658969804618, 3.2723880597014925, 3.298708288482239, 3.294496068620443, 3.1744444444444446, 3.9226190476190474, 3.3259423503325944]}, {\"name\": \"Support\", \"type\": \"bar\", \"uid\": \"ae5b1d5d-6c8a-4b12-9778-2f1fcae62297\", \"x\": [\"University 1\", \"University 10\", \"University 11\", \"University 12\", \"University 13\", \"University 14\", \"University 19\", \"University 2\", \"University 21\", \"University 3\", \"University 4\", \"University 5\", \"University 6\", \"University 7\", \"University 8\", \"University 9\"], \"y\": [4.156993339676498, 4.2357473035439135, 4.1669724770642205, 4.161687170474517, 4.236111111111111, 4.215311004784689, 4.2084942084942085, 4.147637795275591, 4.614285714285714, 4.162522202486678, 4.130182421227198, 4.1576964477933265, 4.133666904932094, 4.137777777777778, 4.5476190476190474, 4.126385809312638]}, {\"name\": \"Pace\", \"type\": \"bar\", \"uid\": \"6d3ef49d-d527-4bac-9403-634fdc09fcb4\", \"x\": [\"University 1\", \"University 10\", \"University 11\", \"University 12\", \"University 13\", \"University 14\", \"University 19\", \"University 2\", \"University 21\", \"University 3\", \"University 4\", \"University 5\", \"University 6\", \"University 7\", \"University 8\", \"University 9\"], \"y\": [3.737392959086584, 3.8012326656394455, 3.776146788990826, 3.822495606326889, 3.8449074074074074, 3.971291866028708, 3.694980694980695, 3.7106299212598426, 4.253571428571429, 3.7211367673179394, 3.730514096185738, 3.7432723358449946, 3.7133666904932094, 3.787777777777778, 4.321428571428571, 3.762749445676275]}, {\"name\": \"Ins. Know\", \"type\": \"bar\", \"uid\": \"f99878f1-dfb1-4761-83f0-e7953422febd\", \"x\": [\"University 1\", \"University 10\", \"University 11\", \"University 12\", \"University 13\", \"University 14\", \"University 19\", \"University 2\", \"University 21\", \"University 3\", \"University 4\", \"University 5\", \"University 6\", \"University 7\", \"University 8\", \"University 9\"], \"y\": [4.53092293054234, 4.522342064714946, 4.522935779816514, 4.525483304042179, 4.527777777777778, 4.6650717703349285, 4.420849420849421, 4.515748031496063, 4.85, 4.50044404973357, 4.522802653399668, 4.525834230355221, 4.493209435310936, 4.47, 4.738095238095238, 4.463414634146342]}, {\"name\": \"Ins. Clarity\", \"type\": \"bar\", \"uid\": \"5ad26ddc-f0b6-47ca-9de3-5c1485d2b1d8\", \"x\": [\"University 1\", \"University 10\", \"University 11\", \"University 12\", \"University 13\", \"University 14\", \"University 19\", \"University 2\", \"University 21\", \"University 3\", \"University 4\", \"University 5\", \"University 6\", \"University 7\", \"University 8\", \"University 9\"], \"y\": [4.156041864890581, 4.181818181818182, 4.181651376146789, 4.195079086115993, 4.273148148148148, 4.291866028708134, 4.057915057915058, 4.149606299212598, 4.457142857142857, 4.1700710479573715, 4.172470978441128, 4.164155005382131, 4.115082201572552, 4.161111111111111, 4.601190476190476, 4.155210643015521]}, {\"name\": \"Ins. Engagement\", \"type\": \"bar\", \"uid\": \"4792ace1-13b8-47f9-a72f-c8f7454ab401\", \"x\": [\"University 1\", \"University 10\", \"University 11\", \"University 12\", \"University 13\", \"University 14\", \"University 19\", \"University 2\", \"University 21\", \"University 3\", \"University 4\", \"University 5\", \"University 6\", \"University 7\", \"University 8\", \"University 9\"], \"y\": [4.223596574690771, 4.200308166409862, 4.223853211009175, 4.268892794376098, 4.3032407407407405, 4.430622009569378, 4.123552123552123, 4.21751968503937, 4.725, 4.197158081705151, 4.237976782752902, 4.208826695371367, 4.154395997140815, 4.183333333333334, 4.642857142857143, 4.177383592017739]}],\n",
       "                        {\"showlegend\": true, \"title\": {\"text\": \"Average Metrics - University Level\"}, \"updatemenus\": [{\"active\": 0, \"buttons\": [{\"args\": [{\"visible\": [true, true, true, true, true, true]}, {\"title\": \"All\"}], \"label\": \"All Metrics\", \"method\": \"update\"}, {\"args\": [{\"visible\": [true, false, false, false, false, false]}, {\"title\": \"Avg Pace\"}], \"label\": \"Mastery\", \"method\": \"update\"}, {\"args\": [{\"visible\": [false, true, false, false, false, false]}, {\"title\": \"Avg Support\"}], \"label\": \"Support\", \"method\": \"update\"}, {\"args\": [{\"visible\": [false, false, true, false, false, false]}, {\"title\": \"Avg Support\"}], \"label\": \"Pace\", \"method\": \"update\"}, {\"args\": [{\"visible\": [false, false, false, true, false, false]}, {\"title\": \"Ins Knowledge\"}], \"label\": \"Instructor Knowledge\", \"method\": \"update\"}, {\"args\": [{\"visible\": [false, true, false, false, false, false]}, {\"title\": \"Instructor Clarity\"}], \"label\": \"Instrutor Clarity\", \"method\": \"update\"}, {\"args\": [{\"visible\": [false, true, false, false, false, false]}, {\"title\": \"Instructor Engagement\"}], \"label\": \"Instrutor Engagement\", \"method\": \"update\"}]}], \"xaxis\": {\"title\": {\"text\": \"Classes\"}}, \"yaxis\": {\"title\": {\"text\": \"Avg Score\"}}},\n",
       "                        {\"showLink\": false, \"linkText\": \"Export to plot.ly\", \"plotlyServerURL\": \"https://plot.ly\", \"responsive\": true}\n",
       "                    ).then(function(){\n",
       "                            \n",
       "var gd = document.getElementById('85e3a97b-754f-43e9-baee-9692c8eb9059');\n",
       "var x = new MutationObserver(function (mutations, observer) {{\n",
       "        var display = window.getComputedStyle(gd).display;\n",
       "        if (!display || display === 'none') {{\n",
       "            console.log([gd, 'removed!']);\n",
       "            Plotly.purge(gd);\n",
       "            observer.disconnect();\n",
       "        }}\n",
       "}});\n",
       "\n",
       "// Listen for the removal of the full notebook cells\n",
       "var notebookContainer = gd.closest('#notebook-container');\n",
       "if (notebookContainer) {{\n",
       "    x.observe(notebookContainer, {childList: true});\n",
       "}}\n",
       "\n",
       "// Listen for the clearing of the current output cell\n",
       "var outputEl = gd.closest('.output');\n",
       "if (outputEl) {{\n",
       "    x.observe(outputEl, {childList: true});\n",
       "}}\n",
       "\n",
       "                        })\n",
       "                };\n",
       "                });\n",
       "            </script>\n",
       "        </div>"
      ]
     },
     "metadata": {},
     "output_type": "display_data"
    }
   ],
   "source": [
    "# Set Layout\n",
    "layout = dict(title=\"Average Metrics - University Level\",\n",
    "              showlegend=True,\n",
    "              xaxis=dict(title=\"Classes\"),\n",
    "              yaxis=dict(title=\"Avg Score\"),\n",
    "              updatemenus=updatemenus)\n",
    "\n",
    "# Store data and layout\n",
    "fig = dict(data=create_traces(university_pivot_table), layout=layout)\n",
    "\n",
    "# Plot bar graph\n",
    "plotly.offline.iplot(fig, filename='cmocean-picker-one-dropdown')"
   ]
  },
  {
   "cell_type": "code",
   "execution_count": null,
   "metadata": {},
   "outputs": [],
   "source": []
  }
 ],
 "metadata": {
  "kernelspec": {
   "display_name": "pydev",
   "language": "python",
   "name": "pydev"
  },
  "language_info": {
   "codemirror_mode": {
    "name": "ipython",
    "version": 3
   },
   "file_extension": ".py",
   "mimetype": "text/x-python",
   "name": "python",
   "nbconvert_exporter": "python",
   "pygments_lexer": "ipython3",
   "version": "3.6.4"
  },
  "latex_envs": {
   "LaTeX_envs_menu_present": true,
   "autoclose": false,
   "autocomplete": true,
   "bibliofile": "biblio.bib",
   "cite_by": "apalike",
   "current_citInitial": 1,
   "eqLabelWithNumbers": true,
   "eqNumInitial": 1,
   "hotkeys": {
    "equation": "Ctrl-E",
    "itemize": "Ctrl-I"
   },
   "labels_anchors": false,
   "latex_user_defs": false,
   "report_style_numbering": false,
   "user_envs_cfg": false
  }
 },
 "nbformat": 4,
 "nbformat_minor": 2
}
